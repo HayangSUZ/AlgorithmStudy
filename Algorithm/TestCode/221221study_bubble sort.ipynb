{
 "cells": [
  {
   "cell_type": "code",
   "execution_count": 5,
   "id": "bde17fd8",
   "metadata": {},
   "outputs": [],
   "source": [
    "#데이터가 두 개일 때 버블 정렬\n",
    "\n",
    "# index와 index+1을 비교하여 index가 더 클 경우 스위칭\n",
    "# 총 비교 횟수는 데이터 길이 - 1 번 만큼 비교함.\n",
    "# ex) 데이터가 2개일 경우 -> 1번 비교\n",
    "\n",
    "# for index in range(data_length - 1):\n",
    "#     for index_2 in range(data_length - 1):\n",
    "#         if data_1 > data_2:\n",
    "#             swap(data_1, data_2)\n",
    "#\n",
    "# 턴의 횟수(비교 횟수)가 늘어날 때마다 -1 만큼 덜 돌아도 됨\n",
    "\n",
    "def bubblesort(data):\n",
    "    for index in range(len(data) - 1):\n",
    "        swap = False\n",
    "        for index_2 in range(len(data) - index -1):\n",
    "            if data[index_2] > data[index_2 + 1]:\n",
    "                data[index_2], data[index_2 + 1] = data[index_2 + 1], data[index_2]\n",
    "                swap = True\n",
    "        if swap == False:\n",
    "            break\n",
    "    \n",
    "    return data\n",
    "            "
   ]
  },
  {
   "cell_type": "code",
   "execution_count": 6,
   "id": "11e3332a",
   "metadata": {},
   "outputs": [
    {
     "data": {
      "text/plain": [
       "[1,\n",
       " 2,\n",
       " 3,\n",
       " 4,\n",
       " 5,\n",
       " 6,\n",
       " 9,\n",
       " 11,\n",
       " 14,\n",
       " 15,\n",
       " 17,\n",
       " 21,\n",
       " 22,\n",
       " 23,\n",
       " 27,\n",
       " 28,\n",
       " 29,\n",
       " 32,\n",
       " 33,\n",
       " 34,\n",
       " 35,\n",
       " 37,\n",
       " 38,\n",
       " 40,\n",
       " 42,\n",
       " 46,\n",
       " 47,\n",
       " 50,\n",
       " 53,\n",
       " 57,\n",
       " 61,\n",
       " 62,\n",
       " 63,\n",
       " 65,\n",
       " 66,\n",
       " 68,\n",
       " 71,\n",
       " 73,\n",
       " 74,\n",
       " 78,\n",
       " 79,\n",
       " 81,\n",
       " 85,\n",
       " 87,\n",
       " 88,\n",
       " 90,\n",
       " 94,\n",
       " 95,\n",
       " 98,\n",
       " 99]"
      ]
     },
     "execution_count": 6,
     "metadata": {},
     "output_type": "execute_result"
    }
   ],
   "source": [
    "import random\n",
    "\n",
    "data_list = random.sample(range(100), 50)\n",
    "bubblesort(data_list)"
   ]
  },
  {
   "cell_type": "code",
   "execution_count": null,
   "id": "16a28c9c",
   "metadata": {},
   "outputs": [],
   "source": []
  }
 ],
 "metadata": {
  "kernelspec": {
   "display_name": "Python 3 (ipykernel)",
   "language": "python",
   "name": "python3"
  },
  "language_info": {
   "codemirror_mode": {
    "name": "ipython",
    "version": 3
   },
   "file_extension": ".py",
   "mimetype": "text/x-python",
   "name": "python",
   "nbconvert_exporter": "python",
   "pygments_lexer": "ipython3",
   "version": "3.9.15"
  }
 },
 "nbformat": 4,
 "nbformat_minor": 5
}
