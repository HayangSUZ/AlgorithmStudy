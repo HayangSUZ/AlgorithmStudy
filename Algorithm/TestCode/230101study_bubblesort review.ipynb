{
 "cells": [
  {
   "cell_type": "code",
   "execution_count": 5,
   "id": "17f4ae2b",
   "metadata": {},
   "outputs": [],
   "source": [
    "def bubble(data):\n",
    "    for index in range(len(data) - 1):\n",
    "        swap = False\n",
    "        for vs in range(len(data) - index - 1):\n",
    "            if data[vs] > data[vs + 1]:\n",
    "                data[vs], data[vs + 1] = data[vs + 1], data[vs]\n",
    "                swap = True\n",
    "        if swap == False:\n",
    "            break\n",
    "            \n",
    "    return print(data)"
   ]
  },
  {
   "cell_type": "code",
   "execution_count": 6,
   "id": "7007267c",
   "metadata": {},
   "outputs": [
    {
     "data": {
      "text/plain": [
       "[3, 1, 9, 6, 2]"
      ]
     },
     "execution_count": 6,
     "metadata": {},
     "output_type": "execute_result"
    }
   ],
   "source": [
    "import random\n",
    "\n",
    "samplelist = random.sample(range(10), 5)\n",
    "samplelist"
   ]
  },
  {
   "cell_type": "code",
   "execution_count": 7,
   "id": "6f3cff69",
   "metadata": {},
   "outputs": [
    {
     "name": "stdout",
     "output_type": "stream",
     "text": [
      "[1, 2, 3, 6, 9]\n"
     ]
    }
   ],
   "source": [
    "bubble(samplelist)"
   ]
  },
  {
   "cell_type": "code",
   "execution_count": null,
   "id": "03cca1e5",
   "metadata": {},
   "outputs": [],
   "source": []
  },
  {
   "cell_type": "code",
   "execution_count": 8,
   "id": "81c0bda3",
   "metadata": {},
   "outputs": [],
   "source": [
    "def yesimBsort(data):\n",
    "    for index in range(len(data) - 1):\n",
    "        swap = False\n",
    "        for real_vs in range(len(data) - index - 1):\n",
    "            next_vs = real_vs + 1\n",
    "            if data[real_vs] > data[next_vs]:\n",
    "                data[real_vs], data[next_vs] = data[next_vs], data[real_vs]\n",
    "                swap = True\n",
    "        if swap == False:\n",
    "            break\n",
    "    return print(data)\n"
   ]
  },
  {
   "cell_type": "code",
   "execution_count": 9,
   "id": "1836fc87",
   "metadata": {},
   "outputs": [
    {
     "data": {
      "text/plain": [
       "[0, 14, 39, 12, 19]"
      ]
     },
     "execution_count": 9,
     "metadata": {},
     "output_type": "execute_result"
    }
   ],
   "source": [
    "import random\n",
    "\n",
    "sampledata = random.sample(range(50), 5)\n",
    "sampledata"
   ]
  },
  {
   "cell_type": "code",
   "execution_count": 10,
   "id": "42f3502e",
   "metadata": {},
   "outputs": [
    {
     "name": "stdout",
     "output_type": "stream",
     "text": [
      "[0, 12, 14, 19, 39]\n"
     ]
    }
   ],
   "source": [
    "yesimBsort(sampledata)"
   ]
  },
  {
   "cell_type": "code",
   "execution_count": null,
   "id": "c18ef027",
   "metadata": {},
   "outputs": [],
   "source": []
  }
 ],
 "metadata": {
  "kernelspec": {
   "display_name": "Python 3 (ipykernel)",
   "language": "python",
   "name": "python3"
  },
  "language_info": {
   "codemirror_mode": {
    "name": "ipython",
    "version": 3
   },
   "file_extension": ".py",
   "mimetype": "text/x-python",
   "name": "python",
   "nbconvert_exporter": "python",
   "pygments_lexer": "ipython3",
   "version": "3.9.15"
  }
 },
 "nbformat": 4,
 "nbformat_minor": 5
}
