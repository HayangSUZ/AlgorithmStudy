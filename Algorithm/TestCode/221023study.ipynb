{
 "cells": [
  {
   "cell_type": "markdown",
   "id": "119cf531",
   "metadata": {},
   "source": [
    "### 221022 review\n",
    "\n",
    "링크드리스트 강의 학습 전 객체지향 python 버전 학습"
   ]
  },
  {
   "cell_type": "code",
   "execution_count": 7,
   "id": "7a745539",
   "metadata": {},
   "outputs": [],
   "source": [
    "\n",
    "class quad:\n",
    "    \n",
    "    def __init__(self, data1, data2):\n",
    "        self.width = data1\n",
    "        self.height = data2\n",
    "    \n",
    "    def get_area(self):\n",
    "        return (self.width * self.height)\n",
    "    \n",
    "    def __del__(self):\n",
    "        print(\"this class is deleted\")\n",
    "    \n",
    "    "
   ]
  },
  {
   "cell_type": "code",
   "execution_count": 9,
   "id": "1b54379f",
   "metadata": {},
   "outputs": [
    {
     "data": {
      "text/plain": [
       "15"
      ]
     },
     "execution_count": 9,
     "metadata": {},
     "output_type": "execute_result"
    }
   ],
   "source": [
    "quadangle = quad(3,5)\n",
    "quadangle.get_area()"
   ]
  },
  {
   "cell_type": "code",
   "execution_count": 11,
   "id": "ae096d14",
   "metadata": {},
   "outputs": [
    {
     "name": "stdout",
     "output_type": "stream",
     "text": [
      "this class is deleted\n"
     ]
    }
   ],
   "source": [
    "del quadangle"
   ]
  },
  {
   "cell_type": "code",
   "execution_count": 12,
   "id": "15a1c55b",
   "metadata": {},
   "outputs": [],
   "source": [
    "import math\n",
    "\n",
    "class tri:\n",
    "    \n",
    "    def __init__(self, length, name):\n",
    "        self.length = length\n",
    "        self.name = name\n",
    "        \n",
    "    def get_area(self):\n",
    "        return (math.sqrt(3)/4 * self.length**2)\n",
    "    \n",
    "    "
   ]
  },
  {
   "cell_type": "code",
   "execution_count": 14,
   "id": "7bcd85e6",
   "metadata": {},
   "outputs": [
    {
     "data": {
      "text/plain": [
       "43.30127018922193"
      ]
     },
     "execution_count": 14,
     "metadata": {},
     "output_type": "execute_result"
    }
   ],
   "source": [
    "triangle = tri(10, '삼각')\n",
    "triangle.get_area()"
   ]
  },
  {
   "cell_type": "code",
   "execution_count": 16,
   "id": "d11a76ea",
   "metadata": {},
   "outputs": [
    {
     "name": "stdout",
     "output_type": "stream",
     "text": [
      "<__main__.tri object at 0x7f86a9d87250>\n"
     ]
    }
   ],
   "source": [
    "print(triangle)"
   ]
  },
  {
   "cell_type": "markdown",
   "id": "5c1550a2",
   "metadata": {},
   "source": [
    "### 객체지향 (public, private, protected)\n",
    "\n",
    "public > protected > private\n",
    "\n",
    "1. public : 모든 클래스에서 접근 가능\n",
    "2. protected : 해당 클래스 또는 해당 클래스를 상속받은 클래스에서 접근 가능\n",
    "3. private : 해당 클래스에서만 접근 가능\n",
    "\n",
    "-> python은 기본적으로 public"
   ]
  },
  {
   "cell_type": "code",
   "execution_count": 31,
   "id": "3f7ae3d4",
   "metadata": {},
   "outputs": [
    {
     "name": "stdout",
     "output_type": "stream",
     "text": [
      "25\n",
      "5\n",
      "9\n"
     ]
    }
   ],
   "source": [
    "class Quadrangle:\n",
    "    def __init__(self, width, height, color):\n",
    "        self._width = width\n",
    "        self._height = height\n",
    "        self._color = color\n",
    "    \n",
    "    def get_area(self):\n",
    "        return self._width * self._height\n",
    "    \n",
    "    def _set_area(self, width, height):\n",
    "        self._width = width\n",
    "        self._height = height\n",
    "        \n",
    "\n",
    "square = Quadrangle(5, 5, 'pup')\n",
    "print(square.get_area())\n",
    "print(square._width)\n",
    "square._width = 10\n",
    "square._set_area(3,3)\n",
    "print(square.get_area())\n",
    "\n",
    "        \n",
    "        "
   ]
  },
  {
   "cell_type": "code",
   "execution_count": 32,
   "id": "42f172a5",
   "metadata": {},
   "outputs": [],
   "source": [
    "\n",
    "class circle:\n",
    "    def __init__(self, length, name):\n",
    "        self.__length = length\n",
    "        self.__name = name\n",
    "    \n",
    "    def printname(self):\n",
    "        return self.__name\n",
    "        \n",
    "    def get_area(self):\n",
    "        return 3.14*self.__length**2\n",
    "    \n",
    "    def get_length(self):\n",
    "        return 2*3.14*self.__length\n",
    "    "
   ]
  },
  {
   "cell_type": "code",
   "execution_count": 40,
   "id": "c41b6557",
   "metadata": {},
   "outputs": [
    {
     "name": "stdout",
     "output_type": "stream",
     "text": [
      "circle 28.26\n"
     ]
    }
   ],
   "source": [
    "one = circle(3, 'circle')\n",
    "print(one.printname(), one.get_area())"
   ]
  },
  {
   "cell_type": "code",
   "execution_count": 41,
   "id": "74881f68",
   "metadata": {},
   "outputs": [
    {
     "data": {
      "text/plain": [
       "18.84"
      ]
     },
     "execution_count": 41,
     "metadata": {},
     "output_type": "execute_result"
    }
   ],
   "source": [
    "one.get_length()"
   ]
  },
  {
   "cell_type": "code",
   "execution_count": null,
   "id": "f4195998",
   "metadata": {},
   "outputs": [],
   "source": []
  },
  {
   "cell_type": "markdown",
   "id": "51badaa7",
   "metadata": {},
   "source": [
    "### 과제 from 잔재미 코딩 객체지향 파트"
   ]
  },
  {
   "cell_type": "code",
   "execution_count": 99,
   "id": "c97e9a05",
   "metadata": {},
   "outputs": [],
   "source": [
    "# 1. 계좌 관리 class 작성하기\n",
    "\n",
    "class account:\n",
    "    \n",
    "    def __init__(self):\n",
    "        self.__account_money = 0\n",
    "    \n",
    "    def popmoney(self, popmoney):\n",
    "        self.__account_money -= popmoney\n",
    "        print('인출 후 : ', self.__account_money)\n",
    "    \n",
    "    def savemoney(self, savemoney):\n",
    "        self.__account_money += savemoney\n",
    "        print('저축 후 : ', self.__account_money)\n",
    "        \n",
    "    def showmoney(self):\n",
    "        print('현재 잔액 : ', self.__account_money)\n",
    "    "
   ]
  },
  {
   "cell_type": "code",
   "execution_count": 92,
   "id": "1408255e",
   "metadata": {},
   "outputs": [
    {
     "name": "stdout",
     "output_type": "stream",
     "text": [
      "인출 후 :  -5\n",
      "인출 후 :  -10\n",
      "현재 잔액 :  -10\n",
      "저축 후 :  0\n",
      "현재 잔액 :  0\n"
     ]
    }
   ],
   "source": [
    "tung = account(0)\n",
    "tung.popmoney(5)\n",
    "tung.popmoney(5)\n",
    "\n",
    "tung.showmoney()\n",
    "\n",
    "tung.savemoney(10)\n",
    "tung.showmoney()\n"
   ]
  },
  {
   "cell_type": "code",
   "execution_count": 97,
   "id": "0d9033d1",
   "metadata": {},
   "outputs": [
    {
     "name": "stdout",
     "output_type": "stream",
     "text": [
      "현재 잔액 :  1000\n"
     ]
    }
   ],
   "source": [
    "tung.showmoney()\n"
   ]
  },
  {
   "cell_type": "code",
   "execution_count": 101,
   "id": "968eee98",
   "metadata": {},
   "outputs": [
    {
     "name": "stdout",
     "output_type": "stream",
     "text": [
      "현재 잔액 :  0\n"
     ]
    }
   ],
   "source": [
    "jang = account()\n",
    "jang.showmoney()"
   ]
  },
  {
   "cell_type": "code",
   "execution_count": null,
   "id": "3f508e72",
   "metadata": {},
   "outputs": [],
   "source": []
  },
  {
   "cell_type": "markdown",
   "id": "770dd103",
   "metadata": {},
   "source": [
    "## 링크드 리스트 강의 학습 start"
   ]
  },
  {
   "cell_type": "code",
   "execution_count": 102,
   "id": "152d1246",
   "metadata": {},
   "outputs": [],
   "source": [
    "\n",
    "class Node:\n",
    "    \n",
    "    def __init__(self, data, next = None):\n",
    "        self.data = data\n",
    "        self.next = next\n",
    "        \n",
    "    "
   ]
  },
  {
   "cell_type": "code",
   "execution_count": 104,
   "id": "4ed65839",
   "metadata": {},
   "outputs": [],
   "source": [
    "node_1 = Node(1)\n",
    "node_2 = Node(2)\n",
    "node_1.next = node_2\n",
    "\n",
    "head = node_1\n"
   ]
  },
  {
   "cell_type": "code",
   "execution_count": 108,
   "id": "30e5cd53",
   "metadata": {},
   "outputs": [],
   "source": [
    "#링크드 리스트로 데이터 추가하기\n",
    "\n",
    "class Node:\n",
    "    def __init__(self, data, next = None):\n",
    "        self.data = data\n",
    "        self.next = next\n",
    "    \n",
    "def add(data):\n",
    "    node = head\n",
    "    while node.next:\n",
    "        node = node.next\n",
    "    node.next = Node(data)\n",
    "        "
   ]
  },
  {
   "cell_type": "code",
   "execution_count": 110,
   "id": "73b47946",
   "metadata": {},
   "outputs": [],
   "source": [
    "node1 = Node(1)\n",
    "head = node1\n",
    "\n",
    "for index in range(1, 10):\n",
    "    add(index)\n"
   ]
  },
  {
   "cell_type": "code",
   "execution_count": 112,
   "id": "b9f74623",
   "metadata": {},
   "outputs": [
    {
     "name": "stdout",
     "output_type": "stream",
     "text": [
      "1\n",
      "1\n",
      "2\n",
      "3\n",
      "4\n",
      "5\n",
      "6\n",
      "7\n",
      "8\n",
      "9\n"
     ]
    }
   ],
   "source": [
    "node = head\n",
    "while node.next:\n",
    "    print(node.data)\n",
    "    node = node.next\n",
    "print(node.data)"
   ]
  },
  {
   "cell_type": "code",
   "execution_count": null,
   "id": "0c697092",
   "metadata": {},
   "outputs": [],
   "source": []
  }
 ],
 "metadata": {
  "kernelspec": {
   "display_name": "Python 3 (ipykernel)",
   "language": "python",
   "name": "python3"
  },
  "language_info": {
   "codemirror_mode": {
    "name": "ipython",
    "version": 3
   },
   "file_extension": ".py",
   "mimetype": "text/x-python",
   "name": "python",
   "nbconvert_exporter": "python",
   "pygments_lexer": "ipython3",
   "version": "3.9.12"
  }
 },
 "nbformat": 4,
 "nbformat_minor": 5
}
