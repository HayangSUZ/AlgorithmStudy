{
 "cells": [
  {
   "cell_type": "code",
   "execution_count": 24,
   "id": "67628c61",
   "metadata": {},
   "outputs": [],
   "source": [
    "def insert_sort(data):\n",
    "    #[4,3,1,2,5]\n",
    "    for index in range(1, len(data) ):\n",
    "        done = False\n",
    "        for compare in range(index, 0, -1):\n",
    "            realvs = compare - 1\n",
    "            #temp = 0\n",
    "            if data[compare] < data[realvs]:\n",
    "                data[compare], data[realvs] = data[realvs], data[compare]\n",
    "            else:\n",
    "                done = True\n",
    "                break\n",
    "    \n",
    "    return print(data)\n",
    "\n",
    "        \n",
    "\n",
    "def insertion_sort(data):\n",
    "    for index in range(len(data) - 1):\n",
    "        for index2 in range(index + 1, 0, -1):\n",
    "            if data[index2] < data[index2 - 1]:\n",
    "                data[index2], data[index2 -1] = data[index2 -1], data[index2]\n",
    "            else:\n",
    "                break\n",
    "    return print(data)"
   ]
  },
  {
   "cell_type": "code",
   "execution_count": 18,
   "id": "4148ce06",
   "metadata": {},
   "outputs": [
    {
     "name": "stdout",
     "output_type": "stream",
     "text": [
      "[1, 2, 3, 4, 5]\n"
     ]
    }
   ],
   "source": [
    "datalist = [4,3,1,2,5]\n",
    "insert_sort(datalist)"
   ]
  },
  {
   "cell_type": "code",
   "execution_count": 25,
   "id": "34354dc5",
   "metadata": {},
   "outputs": [
    {
     "data": {
      "text/plain": [
       "[33, 30, 5, 26, 87, 56, 85, 24, 82, 95]"
      ]
     },
     "execution_count": 25,
     "metadata": {},
     "output_type": "execute_result"
    }
   ],
   "source": [
    "import random\n",
    "\n",
    "datalist = random.sample(range(100),10)\n",
    "datalist"
   ]
  },
  {
   "cell_type": "code",
   "execution_count": 26,
   "id": "89f0ed1e",
   "metadata": {},
   "outputs": [
    {
     "name": "stdout",
     "output_type": "stream",
     "text": [
      "[5, 24, 26, 30, 33, 56, 82, 85, 87, 95]\n"
     ]
    }
   ],
   "source": [
    "insert_sort(datalist)"
   ]
  },
  {
   "cell_type": "code",
   "execution_count": 27,
   "id": "b2400c7b",
   "metadata": {},
   "outputs": [
    {
     "name": "stdout",
     "output_type": "stream",
     "text": [
      "[20, 38, 39, 40, 56, 58, 60, 77, 89, 97]\n"
     ]
    }
   ],
   "source": [
    "datalist2 = random.sample(range(100), 10)\n",
    "insertion_sort(datalist2)"
   ]
  },
  {
   "cell_type": "code",
   "execution_count": null,
   "id": "c4e67236",
   "metadata": {},
   "outputs": [],
   "source": []
  }
 ],
 "metadata": {
  "kernelspec": {
   "display_name": "Python 3 (ipykernel)",
   "language": "python",
   "name": "python3"
  },
  "language_info": {
   "codemirror_mode": {
    "name": "ipython",
    "version": 3
   },
   "file_extension": ".py",
   "mimetype": "text/x-python",
   "name": "python",
   "nbconvert_exporter": "python",
   "pygments_lexer": "ipython3",
   "version": "3.9.15"
  }
 },
 "nbformat": 4,
 "nbformat_minor": 5
}
