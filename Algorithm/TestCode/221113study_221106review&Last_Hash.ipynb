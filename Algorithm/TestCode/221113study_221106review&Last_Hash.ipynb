{
 "cells": [
  {
   "cell_type": "code",
   "execution_count": 2,
   "id": "0041ee95",
   "metadata": {},
   "outputs": [],
   "source": [
    "hash_table = list([0 for i in range(8)])\n",
    "\n",
    "def get_key(data):\n",
    "    return hash(data)\n",
    "\n",
    "def hash_function(key):\n",
    "    return key % 8\n",
    "\n",
    "def save_data(data, value):\n",
    "    index_key = get_key(data)\n",
    "    hash_address = hash_function(index_key)\n",
    "    \n",
    "    if hash_table[hash_address] != 0:\n",
    "        for i in range(hash_adress, len(hash_table)):\n",
    "            if hash_table[i] == 0:\n",
    "                hash_table[i] = [index_key, value]\n",
    "                return\n",
    "            elif hash_table[i][0] == index_key:\n",
    "                hash_table[i][0] = value\n",
    "                return\n",
    "    else:\n",
    "        hash_table[hash_address] = [index_key, value]\n",
    "        \n",
    "def read_data(data):\n",
    "    index_key = get_key(data)\n",
    "    hash_adress = hash_function(index_key)\n",
    "    \n",
    "    if hash_table[hash_address] != 0:\n",
    "        for i in range(hash_address, len(hash_table)):\n",
    "            if hash_table[i] == 0:\n",
    "                return None\n",
    "            elif hash_table[i][0] == index_key:\n",
    "                return hash_table[i][1]\n",
    "    else:\n",
    "        return print(\"No Data\")"
   ]
  },
  {
   "cell_type": "code",
   "execution_count": 10,
   "id": "06113716",
   "metadata": {},
   "outputs": [
    {
     "name": "stdout",
     "output_type": "stream",
     "text": [
      "ee26b0dd4af7e749aa1a8ee3c10ae9923f618980772e473f8819a5d4940e0db27ac185f8a0e1d5f84f88bc887fd67b143732c304cc5fa9ad8e6f57f50028a8ff\n"
     ]
    }
   ],
   "source": [
    "#SHA-1\n",
    "\n",
    "import hashlib\n",
    "\n",
    "data = 'test'.encode()\n",
    "hash_object = hashlib.sha512()#sha256() 도 가능\n",
    "hash_object.update(b'test') # data == b'test'\n",
    "hex_dig = hash_object.hexdigest() #16진수로 추출\n",
    "print(hex_dig)"
   ]
  },
  {
   "cell_type": "code",
   "execution_count": 12,
   "id": "263679cd",
   "metadata": {},
   "outputs": [],
   "source": [
    "hash_table = list([0 for i in range(8)])\n",
    "import hashlib\n",
    "\n",
    "def get_key(data):\n",
    "    hash_object = hashlib.sha256()\n",
    "    hash_object.update(data.encode())\n",
    "    hex_dig = hash_object.hexdigest()\n",
    "    return hex_dig\n",
    "\n",
    "def hash_function(key):\n",
    "    return int(hex_dig, 16) % 8\n",
    "\n",
    "def save_data(data, value):\n",
    "    index_key = get_key(data)\n",
    "    hash_address = hash_function(index_key)\n",
    "    \n",
    "    if hash_table[hash_address] != 0:\n",
    "        for i in range(hash_adress, len(hash_table)):\n",
    "            if hash_table[i] == 0:\n",
    "                hash_table[i] = [index_key, value]\n",
    "                return\n",
    "            elif hash_table[i][0] == index_key:\n",
    "                hash_table[i][0] = value\n",
    "                return\n",
    "    else:\n",
    "        hash_table[hash_address] = [index_key, value]\n",
    "        \n",
    "def read_data(data):\n",
    "    index_key = get_key(data)\n",
    "    hash_adress = hash_function(index_key)\n",
    "    \n",
    "    if hash_table[hash_address] != 0:\n",
    "        for i in range(hash_address, len(hash_table)):\n",
    "            if hash_table[i] == 0:\n",
    "                return None\n",
    "            elif hash_table[i][0] == index_key:\n",
    "                return hash_table[i][1]\n",
    "    else:\n",
    "        return print(\"No Data\")"
   ]
  },
  {
   "cell_type": "markdown",
   "id": "9db79616",
   "metadata": {},
   "source": [
    "해쉬 테이블의 경우 시간복잡도는 O(1) 이다.\n",
    "(일반적인 경우 == 충돌이 없는 경우)\n"
   ]
  },
  {
   "cell_type": "code",
   "execution_count": null,
   "id": "5c82cda5",
   "metadata": {},
   "outputs": [],
   "source": []
  }
 ],
 "metadata": {
  "kernelspec": {
   "display_name": "Python 3 (ipykernel)",
   "language": "python",
   "name": "python3"
  },
  "language_info": {
   "codemirror_mode": {
    "name": "ipython",
    "version": 3
   },
   "file_extension": ".py",
   "mimetype": "text/x-python",
   "name": "python",
   "nbconvert_exporter": "python",
   "pygments_lexer": "ipython3",
   "version": "3.9.12"
  }
 },
 "nbformat": 4,
 "nbformat_minor": 5
}
