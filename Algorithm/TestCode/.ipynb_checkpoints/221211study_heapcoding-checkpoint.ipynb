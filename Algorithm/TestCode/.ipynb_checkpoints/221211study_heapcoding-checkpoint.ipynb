{
 "cells": [
  {
   "cell_type": "code",
   "execution_count": 4,
   "id": "421416ad",
   "metadata": {},
   "outputs": [
    {
     "data": {
      "text/plain": [
       "1.0"
      ]
     },
     "execution_count": 4,
     "metadata": {},
     "output_type": "execute_result"
    }
   ],
   "source": [
    "2//2"
   ]
  },
  {
   "cell_type": "markdown",
   "id": "4ffa6b3d",
   "metadata": {},
   "source": [
    "부모 노드 인덱스 번호 = 자식 인덱스 //2\n",
    "왼쪽 자식 번호 = 부모 인덱스 * 2\n",
    "오른쪽 자식 번호 = 부모 인덱스 * 2 + 1"
   ]
  },
  {
   "cell_type": "code",
   "execution_count": 15,
   "id": "01c0449f",
   "metadata": {},
   "outputs": [],
   "source": [
    "class Heap:\n",
    "    def __init__(self,data):\n",
    "        self.heap_array = list()\n",
    "        self.heap_array.append(None) #인덱스 번호 1번부터 시작(0번부터 시작x)\n",
    "        self.heap_array.append(data)\n",
    "        \n",
    "    def move_up(self, inserted_idx):\n",
    "        if inserted_idx <= 1: # 추가한 노드가 루트일 경우는 비교 필요 x\n",
    "            return False\n",
    "        \n",
    "        parent_idx = inserted_idx // 2\n",
    "        if self.heap_array[inserted_idx] > self.heap_array[parent_idx]:\n",
    "            return True\n",
    "        else:\n",
    "            return False\n",
    "        \n",
    "        \n",
    "    def insert(self, data):\n",
    "        if len(self.heap_array) == 0:\n",
    "            self.heap_array.append(None)\n",
    "            self.heap_array.append(data)\n",
    "            return True\n",
    "        \n",
    "        self.heap_array.append(data)\n",
    "        #return True\n",
    "        \n",
    "        #추가한 데이터가 부모노드보다 클 경우\n",
    "        inserted_idx = len(self.heap_array) - 1 # len()사용 시 인덱스 번호 1번부터 시작했기때문에 \"0\" 인덱스 번호까지 나올거임\n",
    "        \n",
    "        while self.move_up(inserted_idx):\n",
    "            parent_idx = inserted_idx // 2\n",
    "            self.heap_array[inserted_idx], self.heap_array[parent_idx] = self.heap_array[parent_idx], self.heap_array[inserted_idx]\n",
    "            # 1, 2 = 3, 4 -> 3번을 1번에 4번을 2번에 스왑하는 간단한 구문\n",
    "            # question!! : 1 = 3 \\n 2 = 4 랑 실행하면 똑같이 작동하는가? 테스트 필요\n",
    "            inserted_idx = parent_idx\n",
    "        \n",
    "        return True\n",
    "            \n",
    "        "
   ]
  },
  {
   "cell_type": "code",
   "execution_count": 21,
   "id": "ec493a58",
   "metadata": {},
   "outputs": [
    {
     "data": {
      "text/plain": [
       "True"
      ]
     },
     "execution_count": 21,
     "metadata": {},
     "output_type": "execute_result"
    }
   ],
   "source": [
    "heap = Heap(15)\n",
    "heap.insert(10)\n",
    "heap.insert(8)\n",
    "heap.insert(5)\n",
    "heap.insert(4)\n"
   ]
  },
  {
   "cell_type": "code",
   "execution_count": 22,
   "id": "44eb9587",
   "metadata": {},
   "outputs": [
    {
     "data": {
      "text/plain": [
       "[None, 15, 10, 8, 5, 4]"
      ]
     },
     "execution_count": 22,
     "metadata": {},
     "output_type": "execute_result"
    }
   ],
   "source": [
    "heap.heap_array"
   ]
  },
  {
   "cell_type": "code",
   "execution_count": 23,
   "id": "fed0b789",
   "metadata": {},
   "outputs": [
    {
     "data": {
      "text/plain": [
       "True"
      ]
     },
     "execution_count": 23,
     "metadata": {},
     "output_type": "execute_result"
    }
   ],
   "source": [
    "heap.insert(20)"
   ]
  },
  {
   "cell_type": "code",
   "execution_count": 24,
   "id": "8c8f7980",
   "metadata": {},
   "outputs": [
    {
     "data": {
      "text/plain": [
       "[None, 20, 10, 15, 5, 4, 8]"
      ]
     },
     "execution_count": 24,
     "metadata": {},
     "output_type": "execute_result"
    }
   ],
   "source": [
    "heap.heap_array"
   ]
  },
  {
   "cell_type": "code",
   "execution_count": 36,
   "id": "87d7cd87",
   "metadata": {},
   "outputs": [],
   "source": [
    "class Heap:\n",
    "    def __init__(self,data):\n",
    "        self.heap_array = list()\n",
    "        self.heap_array.append(None) #인덱스 번호 1번부터 시작(0번부터 시작x)\n",
    "        self.heap_array.append(data)\n",
    "        \n",
    "    def move_down(self, popped_idx):\n",
    "        leftchild_idx = popped_idx * 2\n",
    "        rightchild_idx = popped_idx * 2 + 1\n",
    "        \n",
    "        # case1 : 왼쪽 자식노드도 없을 때 (당연히 오른쪽도 없음)\n",
    "        if leftchild_idx >= len(self.heap_array):\n",
    "            return False\n",
    "        \n",
    "        # case2 : 오른쪽 자식노드만 없을 때 (왼쪽은 존재)\n",
    "        elif rightchild_idx >= len(self.heap_array):\n",
    "            if self.heap_array[popped_idx] < self.heap_array[leftchild_idx]:\n",
    "                return True\n",
    "            else:\n",
    "                return False\n",
    "            \n",
    "        # case3 : 왼족, 오른쪽 자식 노드 모두 있을 때\n",
    "        else:\n",
    "            if self.heap_array[leftchild_idx] > self.heap_array[rightchild_idx]:\n",
    "                if self.heap_array[popped_idx] < self.heap_array[leftchild_idx]:\n",
    "                    return True\n",
    "                else:\n",
    "                    return False\n",
    "            else:\n",
    "                if self.heap_array[popped_idx] < self.heap_array[rightchild_idx]:\n",
    "                    return True\n",
    "                else:\n",
    "                    return False\n",
    "    \n",
    "    def pop(self):\n",
    "        if len(self.heap_array) <= 1:\n",
    "            return None\n",
    "        \n",
    "        returned_data = self.heap_array[1] #0번은 None으로 설정하였기 때문에 1번부터 팝\n",
    "        self.heap_array[1] = self.heap_array[-1]\n",
    "        del self.heap_array[-1]\n",
    "        popped_idx = 1\n",
    "        \n",
    "        while self.move_down(popped_idx):\n",
    "            leftchild_idx = popped_idx * 2\n",
    "            rightchild_idx = popped_idx * 2 + 1\n",
    "        \n",
    "        # case2 : 오른쪽 자식노드만 없을 때 (왼쪽은 존재)\n",
    "            if rightchild_idx >= len(self.heap_array):\n",
    "                if self.heap_array[popped_idx] < self.heap_array[leftchild_idx]:\n",
    "                    self.heap_array[popped_idx], self.heap_array[leftchild_idx] = self.heap_array[leftchild_idx], self.heap_array[popped_idx]\n",
    "                    popped_idx = leftchild_idx\n",
    "            \n",
    "        # case3 : 왼족, 오른쪽 자식 노드 모두 있을 때\n",
    "            else:\n",
    "                if self.heap_array[leftchild_idx] > self.heap_array[rightchild_idx]:\n",
    "                    if self.heap_array[popped_idx] < self.heap_array[leftchild_idx]:\n",
    "                        self.heap_array[popped_idx], self.heap_array[leftchild_idx] = self.heap_array[leftchild_idx], self.heap_array[popped_idx]\n",
    "                        popped_idx = leftchild_idx\n",
    "                else:\n",
    "                    if self.heap_array[popped_idx] < self.heap_array[rightchild_idx]:\n",
    "                        self.heap_array[popped_idx], self.heap_array[rightchild_idx] = self.heap_array[rightchild_idx], self.heap_array[popped_idx]\n",
    "                        popped_idx = rightchild_idx\n",
    "        \n",
    "        return returned_data\n",
    "    \n",
    "    \n",
    "    \n",
    "    def move_up(self, inserted_idx):\n",
    "        if inserted_idx <= 1: # 추가한 노드가 루트일 경우는 비교 필요 x\n",
    "            return False\n",
    "        \n",
    "        parent_idx = inserted_idx // 2\n",
    "        if self.heap_array[inserted_idx] > self.heap_array[parent_idx]:\n",
    "            return True\n",
    "        else:\n",
    "            return False\n",
    "        \n",
    "        \n",
    "    def insert(self, data):\n",
    "        if len(self.heap_array) == 0:\n",
    "            self.heap_array.append(None)\n",
    "            self.heap_array.append(data)\n",
    "            return True\n",
    "        \n",
    "        self.heap_array.append(data)\n",
    "        #return True\n",
    "        \n",
    "        #추가한 데이터가 부모노드보다 클 경우\n",
    "        inserted_idx = len(self.heap_array) - 1 # len()사용 시 인덱스 번호 1번부터 시작했기때문에 \"0\" 인덱스 번호까지 나올거임\n",
    "        \n",
    "        while self.move_up(inserted_idx):\n",
    "            parent_idx = inserted_idx // 2\n",
    "            self.heap_array[inserted_idx], self.heap_array[parent_idx] = self.heap_array[parent_idx], self.heap_array[inserted_idx]\n",
    "            # 1, 2 = 3, 4 -> 3번을 1번에 4번을 2번에 스왑하는 간단한 구문\n",
    "            # question!! : 1 = 3 \\n 2 = 4 랑 실행하면 똑같이 작동하는가? 테스트 필요\n",
    "            inserted_idx = parent_idx\n",
    "        \n",
    "        return True\n",
    "            \n",
    "               \n",
    "\n",
    "        \n",
    "        "
   ]
  },
  {
   "cell_type": "code",
   "execution_count": 38,
   "id": "a2dbde81",
   "metadata": {},
   "outputs": [
    {
     "data": {
      "text/plain": [
       "18"
      ]
     },
     "execution_count": 38,
     "metadata": {},
     "output_type": "execute_result"
    }
   ],
   "source": [
    "heap1 = Heap(15)\n",
    "heap1.insert(10)\n",
    "heap1.insert(8)\n",
    "heap1.insert(5)\n",
    "heap1.insert(18)\n",
    "heap1.pop()"
   ]
  },
  {
   "cell_type": "code",
   "execution_count": null,
   "id": "9dac6558",
   "metadata": {},
   "outputs": [],
   "source": []
  }
 ],
 "metadata": {
  "kernelspec": {
   "display_name": "Python 3 (ipykernel)",
   "language": "python",
   "name": "python3"
  },
  "language_info": {
   "codemirror_mode": {
    "name": "ipython",
    "version": 3
   },
   "file_extension": ".py",
   "mimetype": "text/x-python",
   "name": "python",
   "nbconvert_exporter": "python",
   "pygments_lexer": "ipython3",
   "version": "3.9.15"
  }
 },
 "nbformat": 4,
 "nbformat_minor": 5
}
