{
 "cells": [
  {
   "cell_type": "code",
   "execution_count": 5,
   "id": "1cd4703d",
   "metadata": {},
   "outputs": [
    {
     "name": "stdout",
     "output_type": "stream",
     "text": [
      "1 += 1\n",
      "1\n",
      "3 += 2\n",
      "3\n",
      "6 += 3\n",
      "6\n",
      "10 += 4\n",
      "10\n",
      "15 += 5\n",
      "15\n",
      "21 += 6\n",
      "21\n",
      "28 += 7\n",
      "28\n",
      "36 += 8\n",
      "36\n",
      "45 += 9\n",
      "45\n",
      "55 += 10\n",
      "55\n",
      "55\n"
     ]
    }
   ],
   "source": [
    "sum = 0\n",
    "for num in range(1, 11):\n",
    "    sum += num\n",
    "    print(sum,'+=',num)\n",
    "    print(sum)\n",
    "print(sum)"
   ]
  },
  {
   "cell_type": "code",
   "execution_count": 6,
   "id": "5d027f93",
   "metadata": {},
   "outputs": [
    {
     "name": "stdout",
     "output_type": "stream",
     "text": [
      "[0, 1, 2, 3, 4]\n"
     ]
    }
   ],
   "source": [
    "result = list(range(5))\n",
    "print(result)"
   ]
  },
  {
   "cell_type": "code",
   "execution_count": 7,
   "id": "6a53abea",
   "metadata": {},
   "outputs": [
    {
     "name": "stdout",
     "output_type": "stream",
     "text": [
      "[1, 2, 3]\n"
     ]
    }
   ],
   "source": [
    "result = list(range(1,4))\n",
    "print(result)"
   ]
  },
  {
   "cell_type": "code",
   "execution_count": 8,
   "id": "577f696e",
   "metadata": {},
   "outputs": [
    {
     "name": "stdout",
     "output_type": "stream",
     "text": [
      "3\n"
     ]
    }
   ],
   "source": [
    "print(len(result))"
   ]
  },
  {
   "cell_type": "code",
   "execution_count": 9,
   "id": "aa06601d",
   "metadata": {},
   "outputs": [
    {
     "name": "stdout",
     "output_type": "stream",
     "text": [
      "1\n"
     ]
    }
   ],
   "source": [
    "print(result[0])"
   ]
  },
  {
   "cell_type": "code",
   "execution_count": 10,
   "id": "17762fd9",
   "metadata": {},
   "outputs": [
    {
     "name": "stdout",
     "output_type": "stream",
     "text": [
      "[1, 3, 5, 7, 9]\n"
     ]
    }
   ],
   "source": [
    "result = list(range(1,10,2))\n",
    "print(result)"
   ]
  },
  {
   "cell_type": "code",
   "execution_count": 11,
   "id": "83563737",
   "metadata": {},
   "outputs": [
    {
     "name": "stdout",
     "output_type": "stream",
     "text": [
      "[2, 4, 6, 8]\n"
     ]
    }
   ],
   "source": [
    "result = list(range(2,10,2))\n",
    "print(result)"
   ]
  },
  {
   "cell_type": "code",
   "execution_count": 13,
   "id": "a75bf54a",
   "metadata": {},
   "outputs": [
    {
     "name": "stdout",
     "output_type": "stream",
     "text": [
      "[1, -1, -3, -5, -7, -9]\n"
     ]
    }
   ],
   "source": [
    "result = list(range(1,-10,-2))\n",
    "print(result)"
   ]
  },
  {
   "cell_type": "code",
   "execution_count": 14,
   "id": "12f3adc4",
   "metadata": {},
   "outputs": [
    {
     "name": "stdout",
     "output_type": "stream",
     "text": [
      "1\n",
      "2\n",
      "3\n",
      "4\n"
     ]
    }
   ],
   "source": [
    "for val in range(1,5):\n",
    "    print(val)"
   ]
  },
  {
   "cell_type": "code",
   "execution_count": 18,
   "id": "3aed04c1",
   "metadata": {},
   "outputs": [
    {
     "name": "stdout",
     "output_type": "stream",
     "text": [
      "5  *  1  =  5\n",
      "5  *  2  =  10\n",
      "5  *  3  =  15\n",
      "5  *  4  =  20\n",
      "5  *  5  =  25\n",
      "5  *  6  =  30\n",
      "5  *  7  =  35\n",
      "5  *  8  =  40\n",
      "5  *  9  =  45\n"
     ]
    }
   ],
   "source": [
    "input_val = 5\n",
    "for num in range(1, 10) :\n",
    "    print(input_val, ' * ', num, ' = ', input_val*num)\n",
    "\n"
   ]
  },
  {
   "cell_type": "markdown",
   "id": "b50c587d",
   "metadata": {},
   "source": [
    "### 221016test -ing"
   ]
  },
  {
   "cell_type": "code",
   "execution_count": 25,
   "id": "2e56e454",
   "metadata": {},
   "outputs": [
    {
     "name": "stdout",
     "output_type": "stream",
     "text": [
      "4\n"
     ]
    }
   ],
   "source": [
    "dataset = ['12345', 'M12', '14MM', 'm1M2']\n",
    "val = 0 \n",
    "#M 카운트 할 변수 val 선언\n",
    "\n",
    "for data in dataset:  #dataset 리스트 중 항목 추출 용\n",
    "    for index in range(len(data)):    #dataset의 항목인 data 길이 추출하여 \n",
    "        if data[index] == 'M' :    #0,1,2,... 같이 M 찾기\n",
    "            val += 1     #찾은 M 카운트\n",
    "\n",
    "print(val)\n",
    "        \n",
    "#dataset 리스트에 M 빈도수 찾는 문제"
   ]
  },
  {
   "cell_type": "code",
   "execution_count": null,
   "id": "d56edef6",
   "metadata": {},
   "outputs": [],
   "source": []
  }
 ],
 "metadata": {
  "kernelspec": {
   "display_name": "Python 3 (ipykernel)",
   "language": "python",
   "name": "python3"
  },
  "language_info": {
   "codemirror_mode": {
    "name": "ipython",
    "version": 3
   },
   "file_extension": ".py",
   "mimetype": "text/x-python",
   "name": "python",
   "nbconvert_exporter": "python",
   "pygments_lexer": "ipython3",
   "version": "3.9.12"
  }
 },
 "nbformat": 4,
 "nbformat_minor": 5
}
