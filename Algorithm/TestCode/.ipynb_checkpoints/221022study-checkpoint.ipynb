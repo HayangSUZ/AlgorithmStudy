{
 "cells": [
  {
   "cell_type": "markdown",
   "id": "882bf6c2",
   "metadata": {},
   "source": [
    "### 221017 rewiew"
   ]
  },
  {
   "cell_type": "code",
   "execution_count": 9,
   "id": "5b7c9131",
   "metadata": {},
   "outputs": [],
   "source": [
    "import queue\n",
    "\n",
    "data = queue.Queue()\n",
    "\n",
    "data.put(3)\n",
    "data.put(5)\n",
    "data.put(7)"
   ]
  },
  {
   "cell_type": "code",
   "execution_count": 10,
   "id": "4e1bc2e8",
   "metadata": {},
   "outputs": [
    {
     "name": "stdout",
     "output_type": "stream",
     "text": [
      "<queue.Queue object at 0x7fc6001f0eb0>\n"
     ]
    }
   ],
   "source": [
    "print(data)"
   ]
  },
  {
   "cell_type": "code",
   "execution_count": 14,
   "id": "613485c0",
   "metadata": {},
   "outputs": [
    {
     "name": "stdout",
     "output_type": "stream",
     "text": [
      "<bound method Queue.qsize of <queue.Queue object at 0x7fc6001f0eb0>>\n"
     ]
    }
   ],
   "source": [
    "print(data.qsize)"
   ]
  },
  {
   "cell_type": "code",
   "execution_count": 15,
   "id": "f04c7b3b",
   "metadata": {},
   "outputs": [
    {
     "data": {
      "text/plain": [
       "3"
      ]
     },
     "execution_count": 15,
     "metadata": {},
     "output_type": "execute_result"
    }
   ],
   "source": [
    "data.get()"
   ]
  },
  {
   "cell_type": "code",
   "execution_count": 16,
   "id": "d7aaa449",
   "metadata": {},
   "outputs": [
    {
     "data": {
      "text/plain": [
       "5"
      ]
     },
     "execution_count": 16,
     "metadata": {},
     "output_type": "execute_result"
    }
   ],
   "source": [
    "data.get()"
   ]
  },
  {
   "cell_type": "code",
   "execution_count": 18,
   "id": "847498d0",
   "metadata": {},
   "outputs": [
    {
     "data": {
      "text/plain": [
       "1"
      ]
     },
     "execution_count": 18,
     "metadata": {},
     "output_type": "execute_result"
    }
   ],
   "source": [
    "data.qsize()"
   ]
  },
  {
   "cell_type": "code",
   "execution_count": 19,
   "id": "5774fbbe",
   "metadata": {},
   "outputs": [],
   "source": [
    "data.put(5)"
   ]
  },
  {
   "cell_type": "code",
   "execution_count": 21,
   "id": "daf98276",
   "metadata": {},
   "outputs": [
    {
     "data": {
      "text/plain": [
       "5"
      ]
     },
     "execution_count": 21,
     "metadata": {},
     "output_type": "execute_result"
    }
   ],
   "source": [
    "data.get()"
   ]
  },
  {
   "cell_type": "code",
   "execution_count": 24,
   "id": "805b7089",
   "metadata": {},
   "outputs": [],
   "source": [
    "queue_list = list()\n",
    "\n",
    "def enqueue(data) :\n",
    "    queue_list.append(data)\n",
    "    \n",
    "def dequeue() :\n",
    "    data = queue_list[0]\n",
    "    del queue_list[0]\n",
    "    return data\n",
    "\n",
    "    \n",
    "for index in range(10):\n",
    "    enqueue(index)\n"
   ]
  },
  {
   "cell_type": "code",
   "execution_count": 29,
   "id": "688d1058",
   "metadata": {},
   "outputs": [
    {
     "data": {
      "text/plain": [
       "9"
      ]
     },
     "execution_count": 29,
     "metadata": {},
     "output_type": "execute_result"
    }
   ],
   "source": [
    "queue_list[9]"
   ]
  },
  {
   "cell_type": "code",
   "execution_count": 31,
   "id": "a765f389",
   "metadata": {},
   "outputs": [
    {
     "data": {
      "text/plain": [
       "10"
      ]
     },
     "execution_count": 31,
     "metadata": {},
     "output_type": "execute_result"
    }
   ],
   "source": [
    "len(queue_list)"
   ]
  },
  {
   "cell_type": "markdown",
   "id": "156e312e",
   "metadata": {},
   "source": [
    "## 221022 수업"
   ]
  },
  {
   "cell_type": "markdown",
   "id": "5a11ed10",
   "metadata": {},
   "source": [
    "### 스택(stack)"
   ]
  },
  {
   "cell_type": "markdown",
   "id": "8cbff53e",
   "metadata": {},
   "source": [
    "##### queue : FIFO / stack : LIFO\n",
    "stack ex) 실행취소(?), 프로세스 함수 동작\n",
    "큐에서는 enqueue, dequeue\n",
    "스택에서는 push, pop"
   ]
  },
  {
   "cell_type": "code",
   "execution_count": 32,
   "id": "8ab44303",
   "metadata": {},
   "outputs": [],
   "source": [
    "#재귀함수\n",
    "#이거 재밌다! 종종 함수 생각해보기\n",
    "\n",
    "def recursive(data):\n",
    "    if data < 0:\n",
    "        print(\"ended\")\n",
    "    else:\n",
    "        print(data)\n",
    "        recursive(data - 1)\n",
    "        print(\"returned\", data)\n",
    "        \n"
   ]
  },
  {
   "cell_type": "code",
   "execution_count": 33,
   "id": "81c6d229",
   "metadata": {},
   "outputs": [
    {
     "name": "stdout",
     "output_type": "stream",
     "text": [
      "4\n",
      "3\n",
      "2\n",
      "1\n",
      "0\n",
      "ended\n",
      "returned 0\n",
      "returned 1\n",
      "returned 2\n",
      "returned 3\n",
      "returned 4\n"
     ]
    }
   ],
   "source": [
    "recursive(4)"
   ]
  },
  {
   "cell_type": "markdown",
   "id": "e4d93843",
   "metadata": {},
   "source": [
    "##### 스택의 경우 최대 공간을 미리 정의해야한다 -> 데이터 공간의 낭비가 발생할 수 있음"
   ]
  },
  {
   "cell_type": "markdown",
   "id": "07489f17",
   "metadata": {},
   "source": [
    "### 프로그래밍 연습"
   ]
  },
  {
   "cell_type": "code",
   "execution_count": 34,
   "id": "be200692",
   "metadata": {},
   "outputs": [
    {
     "data": {
      "text/plain": [
       "[1, 2]"
      ]
     },
     "execution_count": 34,
     "metadata": {},
     "output_type": "execute_result"
    }
   ],
   "source": [
    "data_stack = list() # list 에는 append, pop 지원 -> stack 정책 그대로 활용\n",
    "\n",
    "data_stack.append(1)\n",
    "data_stack.append(2)\n",
    "\n",
    "data_stack "
   ]
  },
  {
   "cell_type": "code",
   "execution_count": 35,
   "id": "3e9b04a6",
   "metadata": {},
   "outputs": [
    {
     "data": {
      "text/plain": [
       "2"
      ]
     },
     "execution_count": 35,
     "metadata": {},
     "output_type": "execute_result"
    }
   ],
   "source": [
    "data_stack.pop()"
   ]
  },
  {
   "cell_type": "code",
   "execution_count": 36,
   "id": "2a072c32",
   "metadata": {},
   "outputs": [
    {
     "data": {
      "text/plain": [
       "[1]"
      ]
     },
     "execution_count": 36,
     "metadata": {},
     "output_type": "execute_result"
    }
   ],
   "source": [
    "data_stack"
   ]
  },
  {
   "cell_type": "code",
   "execution_count": 37,
   "id": "12bbc13e",
   "metadata": {},
   "outputs": [],
   "source": [
    "###"
   ]
  },
  {
   "cell_type": "code",
   "execution_count": 39,
   "id": "0f3dd916",
   "metadata": {},
   "outputs": [],
   "source": [
    "stack_list = list()\n",
    "\n",
    "def push(data):\n",
    "    stack_list.append(data)\n",
    "    \n",
    "def pop():\n",
    "    data = stack_list[-1] #리스트 사이즈에 상관없이 [-1]은 항상 마지막 항목\n",
    "    del stack_list[-1]\n",
    "    return data\n",
    "\n",
    "for index in range(10):\n",
    "    push(index)"
   ]
  },
  {
   "cell_type": "code",
   "execution_count": 42,
   "id": "ad08ef12",
   "metadata": {},
   "outputs": [
    {
     "data": {
      "text/plain": [
       "7"
      ]
     },
     "execution_count": 42,
     "metadata": {},
     "output_type": "execute_result"
    }
   ],
   "source": [
    "pop()"
   ]
  },
  {
   "cell_type": "code",
   "execution_count": 43,
   "id": "643eb3f1",
   "metadata": {},
   "outputs": [
    {
     "data": {
      "text/plain": [
       "[0, 1, 2, 3, 4, 5, 6]"
      ]
     },
     "execution_count": 43,
     "metadata": {},
     "output_type": "execute_result"
    }
   ],
   "source": [
    "stack_list"
   ]
  },
  {
   "cell_type": "code",
   "execution_count": null,
   "id": "733de186",
   "metadata": {},
   "outputs": [],
   "source": []
  },
  {
   "cell_type": "markdown",
   "id": "3c539424",
   "metadata": {},
   "source": [
    "## 링크드리스트 Linked List"
   ]
  },
  {
   "cell_type": "markdown",
   "id": "5c1f54f9",
   "metadata": {},
   "source": [
    "#### \n",
    "node : 데이터 저장 단위(데이터 값 + 포인터)\n",
    "pointer : 각 노드 안에서, 다음이나 이전의 노드와의 연결 정보를 가지고 있는 공간\n"
   ]
  }
 ],
 "metadata": {
  "kernelspec": {
   "display_name": "Python 3 (ipykernel)",
   "language": "python",
   "name": "python3"
  },
  "language_info": {
   "codemirror_mode": {
    "name": "ipython",
    "version": 3
   },
   "file_extension": ".py",
   "mimetype": "text/x-python",
   "name": "python",
   "nbconvert_exporter": "python",
   "pygments_lexer": "ipython3",
   "version": "3.9.12"
  }
 },
 "nbformat": 4,
 "nbformat_minor": 5
}
