{
 "cells": [
  {
   "cell_type": "markdown",
   "id": "f1969661",
   "metadata": {},
   "source": [
    "### 시간복잡도 / 공간복잡도"
   ]
  },
  {
   "cell_type": "markdown",
   "id": "9058519c",
   "metadata": {},
   "source": [
    "Big O 표기법\n",
    " - 알고리즘 최악의 실행 시간 표기\n",
    " - 가장 많이/일반적으로 사용\n",
    " - 아무리 최악의 상황이라도, 이 정도의 성능은 보장한다는 의미\n",
    " \n",
    "오메가 표기법\n",
    " - 최상의 실행시간을 표기\n",
    " \n",
    "세타 표기법\n",
    " - 평균의 실행 시간 표기\n",
    " \n",
    " "
   ]
  },
  {
   "cell_type": "code",
   "execution_count": 15,
   "id": "49433a25",
   "metadata": {},
   "outputs": [],
   "source": [
    "# 1부터 n까지의 합을 구하는 알고리즘\n",
    "\n",
    "def one_to_n_plus(data):\n",
    "#왜 얘는 self를 안 쓰지?\n",
    "    value = 0\n",
    "    for i in range(1, data+1):\n",
    "        value += i\n",
    "    return value\n",
    "\n",
    "# 위 시간복잡도는 n이고(굳이 따지자면 n+2, 상수는 큰 영향 없으므로 생략)\n",
    "# 빅오 표기법으로는 O(n)\n",
    "\n",
    "def sum_all(n):\n",
    "    return int(n*(n+1)/2)\n",
    "# 위 시간복잡도는 1이고 빅 오 표기법으로는 O(1)"
   ]
  },
  {
   "cell_type": "code",
   "execution_count": 14,
   "id": "ec5e6d83",
   "metadata": {},
   "outputs": [
    {
     "data": {
      "text/plain": [
       "55"
      ]
     },
     "execution_count": 14,
     "metadata": {},
     "output_type": "execute_result"
    }
   ],
   "source": [
    "one_to_n_plus(10)"
   ]
  },
  {
   "cell_type": "code",
   "execution_count": 16,
   "id": "ea41a309",
   "metadata": {},
   "outputs": [
    {
     "data": {
      "text/plain": [
       "55"
      ]
     },
     "execution_count": 16,
     "metadata": {},
     "output_type": "execute_result"
    }
   ],
   "source": [
    "sum_all(10)"
   ]
  },
  {
   "cell_type": "code",
   "execution_count": null,
   "id": "8c289682",
   "metadata": {},
   "outputs": [],
   "source": []
  }
 ],
 "metadata": {
  "kernelspec": {
   "display_name": "Python 3 (ipykernel)",
   "language": "python",
   "name": "python3"
  },
  "language_info": {
   "codemirror_mode": {
    "name": "ipython",
    "version": 3
   },
   "file_extension": ".py",
   "mimetype": "text/x-python",
   "name": "python",
   "nbconvert_exporter": "python",
   "pygments_lexer": "ipython3",
   "version": "3.9.12"
  }
 },
 "nbformat": 4,
 "nbformat_minor": 5
}
