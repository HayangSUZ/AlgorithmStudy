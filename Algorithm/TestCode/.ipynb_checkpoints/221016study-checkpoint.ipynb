{
 "cells": [
  {
   "cell_type": "markdown",
   "id": "bcd31c89",
   "metadata": {},
   "source": [
    "정진균 내꺼"
   ]
  },
  {
   "cell_type": "code",
   "execution_count": 2,
   "id": "eff7d0a7",
   "metadata": {},
   "outputs": [
    {
     "name": "stdout",
     "output_type": "stream",
     "text": [
      "[1, 2, 3, 4, 5]\n"
     ]
    }
   ],
   "source": [
    "data = [1,2,3,4,5]\n",
    "print(data)"
   ]
  },
  {
   "cell_type": "code",
   "execution_count": 3,
   "id": "06e32f7a",
   "metadata": {},
   "outputs": [
    {
     "name": "stdout",
     "output_type": "stream",
     "text": [
      "3\n"
     ]
    }
   ],
   "source": [
    "print(data[2])"
   ]
  },
  {
   "cell_type": "code",
   "execution_count": 5,
   "id": "28b7a7ea",
   "metadata": {},
   "outputs": [
    {
     "name": "stdout",
     "output_type": "stream",
     "text": [
      "5\n"
     ]
    }
   ],
   "source": [
    "data = [[1,2,3],[4,5,6],[7,8,9]]\n",
    "print(data[1][1])"
   ]
  },
  {
   "cell_type": "markdown",
   "id": "91d38255",
   "metadata": {},
   "source": [
    "## 프로그래밍 연습"
   ]
  },
  {
   "cell_type": "code",
   "execution_count": 6,
   "id": "424774b2",
   "metadata": {},
   "outputs": [
    {
     "name": "stdout",
     "output_type": "stream",
     "text": [
      "9\n",
      "8\n",
      "7\n"
     ]
    }
   ],
   "source": [
    "print(data[2][2])\n",
    "print(data[2][1])\n",
    "print(data[2][0])"
   ]
  },
  {
   "cell_type": "code",
   "execution_count": 7,
   "id": "1f0050df",
   "metadata": {},
   "outputs": [
    {
     "name": "stdout",
     "output_type": "stream",
     "text": [
      "9 9\n"
     ]
    }
   ],
   "source": [
    "print(data[2][2],data[2][2])"
   ]
  },
  {
   "cell_type": "code",
   "execution_count": 11,
   "id": "0d2ccc16",
   "metadata": {},
   "outputs": [
    {
     "name": "stdout",
     "output_type": "stream",
     "text": [
      "2\n"
     ]
    }
   ],
   "source": [
    "dataset = ['123', 'M12', '14M', 'm12']\n",
    "val = 0\n",
    "\n",
    "for data in dataset:\n",
    "    for index in range(len(data)):\n",
    "        if data[index] == 'M':\n",
    "            val += 1\n",
    "print(val)\n",
    "\n",
    "#remind"
   ]
  },
  {
   "cell_type": "code",
   "execution_count": null,
   "id": "a1bbfba9",
   "metadata": {},
   "outputs": [],
   "source": []
  }
 ],
 "metadata": {
  "kernelspec": {
   "display_name": "Python 3 (ipykernel)",
   "language": "python",
   "name": "python3"
  },
  "language_info": {
   "codemirror_mode": {
    "name": "ipython",
    "version": 3
   },
   "file_extension": ".py",
   "mimetype": "text/x-python",
   "name": "python",
   "nbconvert_exporter": "python",
   "pygments_lexer": "ipython3",
   "version": "3.9.12"
  }
 },
 "nbformat": 4,
 "nbformat_minor": 5
}
