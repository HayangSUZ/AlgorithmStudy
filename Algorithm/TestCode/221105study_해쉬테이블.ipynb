{
 "cells": [
  {
   "cell_type": "markdown",
   "id": "0b73ec34",
   "metadata": {},
   "source": [
    "### 해쉬테이블\n",
    "\n",
    "Hash Table : 키(key)에 데이터(value)를 저장하는 데이터 구조\n",
    "\n"
   ]
  },
  {
   "cell_type": "code",
   "execution_count": null,
   "id": "44167126",
   "metadata": {},
   "outputs": [],
   "source": []
  },
  {
   "cell_type": "markdown",
   "id": "8a4ce9d4",
   "metadata": {},
   "source": [
    "1. hash table 만들기"
   ]
  },
  {
   "cell_type": "code",
   "execution_count": null,
   "id": "492cce6b",
   "metadata": {},
   "outputs": [],
   "source": []
  },
  {
   "cell_type": "code",
   "execution_count": 3,
   "id": "18059fb7",
   "metadata": {},
   "outputs": [
    {
     "data": {
      "text/plain": [
       "[0, 1, 2, 3, 4, 5, 6, 7, 8, 9]"
      ]
     },
     "execution_count": 3,
     "metadata": {},
     "output_type": "execute_result"
    }
   ],
   "source": [
    "hash_table = list([i for i in range(10)])\n",
    "hash_table"
   ]
  },
  {
   "cell_type": "code",
   "execution_count": 4,
   "id": "626286a2",
   "metadata": {},
   "outputs": [],
   "source": [
    "def hash_func(key):\n",
    "    return key % 5"
   ]
  },
  {
   "cell_type": "code",
   "execution_count": 8,
   "id": "cddd4c66",
   "metadata": {},
   "outputs": [
    {
     "name": "stdout",
     "output_type": "stream",
     "text": [
      "115 106 98\n",
      "115 0\n"
     ]
    }
   ],
   "source": [
    "data1 = 'suz'\n",
    "data2 = 'jjikkyu'\n",
    "data3 = 'bom'\n",
    "\n",
    "\n",
    "#ord() : 문자의 ASCII코드 리턴\n",
    "print(ord(data1[0]), ord(data2[0]), ord(data3[0]))\n",
    "print(ord(data1[0]), hash_func(ord(data1[0])))"
   ]
  },
  {
   "cell_type": "code",
   "execution_count": 9,
   "id": "c3a7f4fe",
   "metadata": {},
   "outputs": [],
   "source": [
    "def storage_data(data, value):\n",
    "    key = ord(data[0])\n",
    "    hash_address = hash_func(key)\n",
    "    hash_table[hash_address] = value\n",
    "    "
   ]
  },
  {
   "cell_type": "code",
   "execution_count": 10,
   "id": "e250626b",
   "metadata": {},
   "outputs": [],
   "source": [
    "storage_data('suz', '8797')\n",
    "storage_data('kkyu', '2037')\n",
    "storage_data('mom', '6767')\n"
   ]
  },
  {
   "cell_type": "code",
   "execution_count": 11,
   "id": "a28cc23e",
   "metadata": {},
   "outputs": [],
   "source": [
    "def get_data(data):\n",
    "    key = ord(data[0])\n",
    "    hash_address = hash_func(key)\n",
    "    return hash_table[hash_address]\n"
   ]
  },
  {
   "cell_type": "code",
   "execution_count": 12,
   "id": "182afeb3",
   "metadata": {},
   "outputs": [
    {
     "data": {
      "text/plain": [
       "'8797'"
      ]
     },
     "execution_count": 12,
     "metadata": {},
     "output_type": "execute_result"
    }
   ],
   "source": [
    "get_data('suz')"
   ]
  },
  {
   "cell_type": "markdown",
   "id": "6dba6031",
   "metadata": {},
   "source": [
    "주요 용도\n",
    " - 다량의 검색을 요하는 경우\n",
    " - 저장, 삭제, 읽기가 빈번한 경우\n",
    " - 캐쉬 구현 시 (중복 확인이 쉬움)"
   ]
  },
  {
   "cell_type": "code",
   "execution_count": 14,
   "id": "a9f82b60",
   "metadata": {},
   "outputs": [],
   "source": [
    "hash_table = list([0 for i in range(8)])\n",
    "\n",
    "def get_key(data):\n",
    "    return hash(data)\n",
    "\n",
    "def hash_function(key):\n",
    "    return key % 8\n",
    "\n",
    "def save_data(data, value):\n",
    "    hash_address = hash_function(get_key(data))\n",
    "    hash_table[hash_address] = value\n",
    "    \n",
    "def read_data(data):\n",
    "    hash_address = hash_function(get_key(data))\n",
    "    return hash_table[hash_address]\n"
   ]
  },
  {
   "cell_type": "code",
   "execution_count": 23,
   "id": "4a0bbf71",
   "metadata": {},
   "outputs": [
    {
     "data": {
      "text/plain": [
       "'wtf'"
      ]
     },
     "execution_count": 23,
     "metadata": {},
     "output_type": "execute_result"
    }
   ],
   "source": [
    "save_data('suz', '8797')\n",
    "save_data('jjikkyu', 'wtf')\n",
    "read_data('suz')\n",
    "read_data('jjikkyu')\n",
    "\n"
   ]
  },
  {
   "cell_type": "code",
   "execution_count": 24,
   "id": "9abee5d3",
   "metadata": {},
   "outputs": [],
   "source": [
    "table_hash = list([0 for i in range(5)])\n",
    "\n",
    "def get_key(data):\n",
    "    return hash(data)\n",
    "\n",
    "def hash_function(key):\n",
    "    return key % 7\n",
    "\n",
    "def save_data(data, value):\n",
    "    hash_address = hash_function(get_key(data))\n",
    "    table_hash[hash_address] = value\n",
    "\n",
    "def read_data(data):\n",
    "    hash_address = hash_function(get_key(data))\n",
    "    return table_hash[hash_address]\n",
    "\n",
    "def delete_data(data): #test failed\n",
    "    hash_address = hash_function(get_key(data))\n",
    "    del hash_address"
   ]
  },
  {
   "cell_type": "code",
   "execution_count": 25,
   "id": "72f2cbe2",
   "metadata": {},
   "outputs": [
    {
     "data": {
      "text/plain": [
       "[0, 0, 0, 0, 0]"
      ]
     },
     "execution_count": 25,
     "metadata": {},
     "output_type": "execute_result"
    }
   ],
   "source": [
    "table_hash"
   ]
  },
  {
   "cell_type": "code",
   "execution_count": 30,
   "id": "8317ce16",
   "metadata": {},
   "outputs": [
    {
     "data": {
      "text/plain": [
       "'1_2'"
      ]
     },
     "execution_count": 30,
     "metadata": {},
     "output_type": "execute_result"
    }
   ],
   "source": [
    "save_data('1', '1_2')\n",
    "read_data('1')"
   ]
  },
  {
   "cell_type": "code",
   "execution_count": 31,
   "id": "ae06e462",
   "metadata": {},
   "outputs": [
    {
     "data": {
      "text/plain": [
       "[0, 0, 0, 0, '1_2']"
      ]
     },
     "execution_count": 31,
     "metadata": {},
     "output_type": "execute_result"
    }
   ],
   "source": [
    "table_hash"
   ]
  },
  {
   "cell_type": "code",
   "execution_count": 34,
   "id": "a409be2c",
   "metadata": {},
   "outputs": [
    {
     "data": {
      "text/plain": [
       "'1_2'"
      ]
     },
     "execution_count": 34,
     "metadata": {},
     "output_type": "execute_result"
    }
   ],
   "source": [
    "delete_data('1')\n",
    "read_data('1')"
   ]
  },
  {
   "cell_type": "code",
   "execution_count": null,
   "id": "bce14530",
   "metadata": {},
   "outputs": [],
   "source": []
  },
  {
   "cell_type": "code",
   "execution_count": 64,
   "id": "27ce8f2d",
   "metadata": {},
   "outputs": [],
   "source": [
    "hash_table = list([0 for i in range(8)])\n",
    "\n",
    "def get_key(data):\n",
    "    return hash(data)\n",
    "\n",
    "def hash_function(key):\n",
    "    return key % 8\n",
    "\n",
    "def save_data(data, value):\n",
    "    index_key = get_key(data)\n",
    "    hash_address = hash_function(index_key)\n",
    "    \n",
    "    if hash_address != 0:\n",
    "        for i in range(len(hash_table[hash_address])):\n",
    "            if hash_table[hash_address][i][0] == index_key:\n",
    "                hash_table[hash_address][i][1] = value\n",
    "                return\n",
    "        hash_table[hash_address].append(index_key, value)\n",
    "    else:\n",
    "        hash_table[hash_address] = [index_key, value]\n",
    "        \n",
    "def read_data(data):\n",
    "    index_key = get_key(data)\n",
    "    hash_address = hash_function(index_key)\n",
    "    if hash_table[hash_address] != 0:\n",
    "        for index in range(len(hash_table[hash_address])):\n",
    "            if hash_table[hash_address][0] == index_key:\n",
    "                return hash_table[hash_address][1]\n",
    "        return None\n",
    "    else:\n",
    "        return None\n",
    "    \n",
    "    \n",
    "    "
   ]
  },
  {
   "cell_type": "code",
   "execution_count": 67,
   "id": "9c0c2661",
   "metadata": {},
   "outputs": [
    {
     "name": "stdout",
     "output_type": "stream",
     "text": [
      "3\n",
      "3\n"
     ]
    }
   ],
   "source": [
    "print(hash('Data') % 8)\n",
    "print(hash('Dav') % 8)"
   ]
  },
  {
   "cell_type": "code",
   "execution_count": 68,
   "id": "520fbe88",
   "metadata": {
    "scrolled": true
   },
   "outputs": [
    {
     "ename": "TypeError",
     "evalue": "object of type 'int' has no len()",
     "output_type": "error",
     "traceback": [
      "\u001b[0;31m---------------------------------------------------------------------------\u001b[0m",
      "\u001b[0;31mTypeError\u001b[0m                                 Traceback (most recent call last)",
      "Input \u001b[0;32mIn [68]\u001b[0m, in \u001b[0;36m<cell line: 1>\u001b[0;34m()\u001b[0m\n\u001b[0;32m----> 1\u001b[0m \u001b[43msave_data\u001b[49m\u001b[43m(\u001b[49m\u001b[38;5;124;43m'\u001b[39;49m\u001b[38;5;124;43mDav\u001b[39;49m\u001b[38;5;124;43m'\u001b[39;49m\u001b[43m,\u001b[49m\u001b[43m \u001b[49m\u001b[38;5;124;43m'\u001b[39;49m\u001b[38;5;124;43m1212231212\u001b[39;49m\u001b[38;5;124;43m'\u001b[39;49m\u001b[43m)\u001b[49m\n\u001b[1;32m      2\u001b[0m save_data(\u001b[38;5;124m'\u001b[39m\u001b[38;5;124mData\u001b[39m\u001b[38;5;124m'\u001b[39m,\u001b[38;5;124m'\u001b[39m\u001b[38;5;124m123123123123\u001b[39m\u001b[38;5;124m'\u001b[39m)\n\u001b[1;32m      3\u001b[0m read_data(\u001b[38;5;124m'\u001b[39m\u001b[38;5;124mDav\u001b[39m\u001b[38;5;124m'\u001b[39m)\n",
      "Input \u001b[0;32mIn [64]\u001b[0m, in \u001b[0;36msave_data\u001b[0;34m(data, value)\u001b[0m\n\u001b[1;32m     11\u001b[0m hash_address \u001b[38;5;241m=\u001b[39m hash_function(index_key)\n\u001b[1;32m     13\u001b[0m \u001b[38;5;28;01mif\u001b[39;00m hash_address \u001b[38;5;241m!=\u001b[39m \u001b[38;5;241m0\u001b[39m:\n\u001b[0;32m---> 14\u001b[0m     \u001b[38;5;28;01mfor\u001b[39;00m i \u001b[38;5;129;01min\u001b[39;00m \u001b[38;5;28mrange\u001b[39m(\u001b[38;5;28;43mlen\u001b[39;49m\u001b[43m(\u001b[49m\u001b[43mhash_table\u001b[49m\u001b[43m[\u001b[49m\u001b[43mhash_address\u001b[49m\u001b[43m]\u001b[49m\u001b[43m)\u001b[49m):\n\u001b[1;32m     15\u001b[0m         \u001b[38;5;28;01mif\u001b[39;00m hash_table[hash_address][i][\u001b[38;5;241m0\u001b[39m] \u001b[38;5;241m==\u001b[39m index_key:\n\u001b[1;32m     16\u001b[0m             hash_table[hash_address][i][\u001b[38;5;241m1\u001b[39m] \u001b[38;5;241m=\u001b[39m value\n",
      "\u001b[0;31mTypeError\u001b[0m: object of type 'int' has no len()"
     ]
    }
   ],
   "source": [
    "\n",
    "save_data('Dav', '1212231212')\n",
    "save_data('Data','123123123123')\n",
    "read_data('Dav')"
   ]
  },
  {
   "cell_type": "code",
   "execution_count": 66,
   "id": "13468e24",
   "metadata": {},
   "outputs": [
    {
     "data": {
      "text/plain": [
       "[0, 0, 0, 0, 0, 0, 0, 0]"
      ]
     },
     "execution_count": 66,
     "metadata": {},
     "output_type": "execute_result"
    }
   ],
   "source": [
    "hash_table"
   ]
  },
  {
   "cell_type": "code",
   "execution_count": null,
   "id": "e30aa195",
   "metadata": {},
   "outputs": [],
   "source": []
  }
 ],
 "metadata": {
  "kernelspec": {
   "display_name": "Python 3 (ipykernel)",
   "language": "python",
   "name": "python3"
  },
  "language_info": {
   "codemirror_mode": {
    "name": "ipython",
    "version": 3
   },
   "file_extension": ".py",
   "mimetype": "text/x-python",
   "name": "python",
   "nbconvert_exporter": "python",
   "pygments_lexer": "ipython3",
   "version": "3.9.12"
  }
 },
 "nbformat": 4,
 "nbformat_minor": 5
}
