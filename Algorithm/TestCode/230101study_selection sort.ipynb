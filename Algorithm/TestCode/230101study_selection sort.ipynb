{
 "cells": [
  {
   "cell_type": "code",
   "execution_count": 2,
   "id": "da83efea",
   "metadata": {},
   "outputs": [],
   "source": [
    "#내가 먼저\n",
    "\n",
    "#[8,2,24,1,42,6,9]\n",
    "\n",
    "def mysort(data):\n",
    "    for number in range(len(data) - 1):\n",
    "        \n",
    "        for cycnumber in range(number, len(data)): # 작동은 잘되는데 number + 1 이 맞다\n",
    "            if data[number] > data[cycnumber]:\n",
    "                data[number], data[cycnumber] = data[cycnumber], data[number]\n",
    "        \n",
    "    return print(data)\n",
    "                \n",
    "#처음에 생각한 가장 작은 값을 저장했다가 표출이 아닌, \n",
    "#작아? 바꿔 를 끝까지 시행해서 비효율적인 것 같음?\n",
    "\n",
    "        \n",
    "        \n",
    "#교수님 코드\n",
    "def selection_sort(data):\n",
    "    for stand in range(len(data) - 1):\n",
    "        lowest = stand\n",
    "        for index in range(stand + 1, len(data)):\n",
    "            if data[lowest] > data[index]:\n",
    "                loewst = index #가장 작은 값의 인덱스를 기억 최종적으로 가장 작은 값의 인덱스를 뽑게 됨\n",
    "        data[lowest], data[stand] = data[stand], data[lowest]\n",
    "    return print(data)\n"
   ]
  },
  {
   "cell_type": "code",
   "execution_count": 3,
   "id": "43189d27",
   "metadata": {},
   "outputs": [
    {
     "name": "stdout",
     "output_type": "stream",
     "text": [
      "[1, 2, 6, 8, 9, 24, 42]\n"
     ]
    }
   ],
   "source": [
    "datalist = [8,2,24,1,42,6,9]\n",
    "mysort(datalist)"
   ]
  },
  {
   "cell_type": "code",
   "execution_count": 5,
   "id": "5489684b",
   "metadata": {},
   "outputs": [
    {
     "name": "stdout",
     "output_type": "stream",
     "text": [
      "[6, 9, 16, 32, 50, 52, 73, 84, 89]\n",
      "[6, 9, 16, 32, 50, 52, 73, 84, 89]\n"
     ]
    }
   ],
   "source": [
    "import random\n",
    "sample = random.sample(range(100), 9)\n",
    "mysort(sample)\n",
    "selection_sort(sample)\n",
    "\n",
    "a=0"
   ]
  },
  {
   "cell_type": "code",
   "execution_count": null,
   "id": "d41e36e1",
   "metadata": {},
   "outputs": [],
   "source": []
  },
  {
   "cell_type": "code",
   "execution_count": null,
   "id": "3e28b9cc",
   "metadata": {},
   "outputs": [],
   "source": []
  }
 ],
 "metadata": {
  "kernelspec": {
   "display_name": "Python 3 (ipykernel)",
   "language": "python",
   "name": "python3"
  },
  "language_info": {
   "codemirror_mode": {
    "name": "ipython",
    "version": 3
   },
   "file_extension": ".py",
   "mimetype": "text/x-python",
   "name": "python",
   "nbconvert_exporter": "python",
   "pygments_lexer": "ipython3",
   "version": "3.9.15"
  }
 },
 "nbformat": 4,
 "nbformat_minor": 5
}
