{
 "cells": [
  {
   "cell_type": "markdown",
   "id": "1d19981d",
   "metadata": {},
   "source": [
    "힙 : 데이터에서 최대값과 최소값을 빠르게 찾기 위해 고안된 이진 트리\n",
    " - 완전 이진트리 : 노드를 삽입할 때 최하단 왼쪽 노드부터 차례대로 삽입하는 트리 // 삽입할 노드는 기본적으로 왼쪽 최하단부부터 오른쪽으로\n",
    "\n",
    "이진탐색트리와 힙의 공통점, 차이점\n",
    " - 공통점 : 힙과 이진탐색트리 모두 이진트리\n",
    " - 차이점 :\n",
    "  - 힙은 각 노드의 값이 자식노드보다 크거나 같음(Max Heap의 경우)\n",
    "  - 이진 탐색 트리는 왼쪽 자식 노드의 값이 가장 작고 그 다음은 부모, 그 다음은 오른쪽 자식 노드 값이 가장 큼\n",
    "  - 힙은 이진 탐색 트리의 조건인 자식 노드에서 작은 값은 왼쪽, 큰 값은 오른쪽이라는 조건이 없음\n",
    "   - 힙의 왼쪽 및 오른쪽 자식 노드의 값은 오른쪽이 클 수도, 왼쪽이 클 수도 있음\n",
    " - 이진 탐색 트리는 탐색을 위한 구조, 힙은 최대/최소값 검색을 위한 구조 중 하나\n",
    " "
   ]
  },
  {
   "cell_type": "code",
   "execution_count": null,
   "id": "908807ab",
   "metadata": {},
   "outputs": [],
   "source": []
  }
 ],
 "metadata": {
  "kernelspec": {
   "display_name": "Python 3 (ipykernel)",
   "language": "python",
   "name": "python3"
  },
  "language_info": {
   "codemirror_mode": {
    "name": "ipython",
    "version": 3
   },
   "file_extension": ".py",
   "mimetype": "text/x-python",
   "name": "python",
   "nbconvert_exporter": "python",
   "pygments_lexer": "ipython3",
   "version": "3.9.15"
  }
 },
 "nbformat": 4,
 "nbformat_minor": 5
}
