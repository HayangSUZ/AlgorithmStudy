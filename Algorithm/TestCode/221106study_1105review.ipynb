{
 "cells": [
  {
   "cell_type": "code",
   "execution_count": 33,
   "id": "5dbd827e",
   "metadata": {},
   "outputs": [],
   "source": [
    "hash_table = list([0 for i in range(8)])\n",
    "\n",
    "def get_key(data):\n",
    "    return hash(data)\n",
    "\n",
    "def hash_function(key):\n",
    "    return key % 8\n",
    "\n",
    "def save_data(data, value):\n",
    "    index_key = get_key(data)\n",
    "    hash_address = hash_function(index_key)\n",
    "    \n",
    "    if hash_table[hash_address] != 0:\n",
    "        for index in range(len(hash_table[hash_address])):\n",
    "            if hash_table[hash_address][index][0] == index_key:\n",
    "                hash_table[hash_address][index][1] = value\n",
    "                return\n",
    "        hash_table[hash_address].append([index_key, value])\n",
    "    else:\n",
    "        hash_table[hash_address] = [[index_key, value]]\n",
    "    \n",
    "def read_data(data):\n",
    "    index_key = get_key(data)\n",
    "    hash_address = hash_function(index_key)\n",
    "\n",
    "    if hash_table[hash_address] != 0:\n",
    "        for index in range(len(hash_table[hash_address])):\n",
    "            if hash_table[hash_address][index][0] == index_key:\n",
    "                return hash_table[hash_address][index][1]\n",
    "        return None\n",
    "    else:\n",
    "        return None\n",
    "\n"
   ]
  },
  {
   "cell_type": "code",
   "execution_count": 38,
   "id": "5c602701",
   "metadata": {},
   "outputs": [
    {
     "name": "stdout",
     "output_type": "stream",
     "text": [
      "7\n",
      "4\n",
      "4\n"
     ]
    }
   ],
   "source": [
    "print(hash('Suz') % 8)\n",
    "print(hash('Sz') % 8)\n",
    "print(hash('s') % 8)"
   ]
  },
  {
   "cell_type": "code",
   "execution_count": 40,
   "id": "95adfb90",
   "metadata": {},
   "outputs": [
    {
     "data": {
      "text/plain": [
       "'12345'"
      ]
     },
     "execution_count": 40,
     "metadata": {},
     "output_type": "execute_result"
    }
   ],
   "source": [
    "save_data('Dav', '12345')\n",
    "save_data('Dqd', '67890')\n",
    "save_data('Sz', '6247')\n",
    "save_data('s', '8888')\n",
    "read_data('Dav')"
   ]
  },
  {
   "cell_type": "code",
   "execution_count": 41,
   "id": "17f6276d",
   "metadata": {},
   "outputs": [
    {
     "data": {
      "text/plain": [
       "[0,\n",
       " 0,\n",
       " [[4923211623879862026, '12345'], [-2820087412555236526, '67890']],\n",
       " 0,\n",
       " [[-4029867205585941732, '6247'], [-1833965787623047428, '8888']],\n",
       " 0,\n",
       " 0,\n",
       " 0]"
      ]
     },
     "execution_count": 41,
     "metadata": {},
     "output_type": "execute_result"
    }
   ],
   "source": [
    "hash_table"
   ]
  },
  {
   "cell_type": "code",
   "execution_count": 87,
   "id": "25800a4d",
   "metadata": {},
   "outputs": [],
   "source": [
    "hash_table = list([0 for i in range(10)])\n",
    "\n",
    "def get_key(data):\n",
    "    return hash(data)\n",
    "\n",
    "def hash_function(key):\n",
    "    return key % 8\n",
    "\n",
    "def save_data(data, value):\n",
    "    index_key = get_key(data)\n",
    "    hash_address = hash_function(index_key)\n",
    "    \n",
    "    if hash_table[hash_address] != 0:\n",
    "        for i in range(len(hash_table[hash_address])):\n",
    "            if hash_table[hash_address][i][0] == index_key:\n",
    "                hash_table[hash_address][i][1] = value\n",
    "                return\n",
    "        hash_table[hash_address].append([index_key, value])\n",
    "    else:\n",
    "        hash_table[hash_address] = [[index_key, value]]\n",
    "\n",
    "def read_data(data):\n",
    "    index_key = get_key(data)\n",
    "    hash_address = hash_function(index_key)\n",
    "    \n",
    "    if hash_table[hash_address] != 0:\n",
    "        for i in range(len(hash_table[hash_address])):\n",
    "            if hash_table[hash_address][i][0] == index_key:\n",
    "                return hash_table[hash_address][i][1]\n",
    "        return print('저장되지 않은 값입니다')\n",
    "    else:\n",
    "        return print('저장되지 않은 값입니다')\n",
    "    \n",
    "    \n",
    "    "
   ]
  },
  {
   "cell_type": "code",
   "execution_count": 62,
   "id": "6018c47b",
   "metadata": {},
   "outputs": [
    {
     "data": {
      "text/plain": [
       "[0, 1, [['1', '1_2']]]"
      ]
     },
     "execution_count": 62,
     "metadata": {},
     "output_type": "execute_result"
    }
   ],
   "source": [
    "listtest = list([i for i in range(3)])\n",
    "listtest[2] = [['1', '1_2']]\n",
    "listtest"
   ]
  },
  {
   "cell_type": "code",
   "execution_count": 63,
   "id": "34d1fc00",
   "metadata": {},
   "outputs": [
    {
     "data": {
      "text/plain": [
       "1"
      ]
     },
     "execution_count": 63,
     "metadata": {},
     "output_type": "execute_result"
    }
   ],
   "source": [
    "len(listtest[2])"
   ]
  },
  {
   "cell_type": "code",
   "execution_count": 105,
   "id": "2c47fe8f",
   "metadata": {},
   "outputs": [
    {
     "name": "stdout",
     "output_type": "stream",
     "text": [
      "5\n",
      "5\n",
      "5\n"
     ]
    }
   ],
   "source": [
    "print(hash('Data')%8)\n",
    "print(hash('Ddd')%8)\n",
    "print(hash('Sss')%8)"
   ]
  },
  {
   "cell_type": "code",
   "execution_count": 108,
   "id": "8d6d052f",
   "metadata": {},
   "outputs": [
    {
     "data": {
      "text/plain": [
       "'3333'"
      ]
     },
     "execution_count": 108,
     "metadata": {},
     "output_type": "execute_result"
    }
   ],
   "source": [
    "save_data('Data', '1111')\n",
    "save_data('Ddd', '2222')\n",
    "save_data('Ddd', '2332')\n",
    "save_data('Sss', '3333')\n",
    "read_data('Sss')"
   ]
  },
  {
   "cell_type": "code",
   "execution_count": 109,
   "id": "8fff1639",
   "metadata": {},
   "outputs": [
    {
     "data": {
      "text/plain": [
       "[0,\n",
       " 0,\n",
       " 0,\n",
       " 0,\n",
       " 0,\n",
       " [[3647818854116012493, '1111'],\n",
       "  [-5810260175145491587, '2332'],\n",
       "  [1654307086931324997, '3333']],\n",
       " 0,\n",
       " 0,\n",
       " 0,\n",
       " 0]"
      ]
     },
     "execution_count": 109,
     "metadata": {},
     "output_type": "execute_result"
    }
   ],
   "source": [
    "hash_table"
   ]
  },
  {
   "cell_type": "code",
   "execution_count": 85,
   "id": "1189f249",
   "metadata": {},
   "outputs": [
    {
     "data": {
      "text/plain": [
       "2"
      ]
     },
     "execution_count": 85,
     "metadata": {},
     "output_type": "execute_result"
    }
   ],
   "source": [
    "len(hash_table[5])"
   ]
  },
  {
   "cell_type": "code",
   "execution_count": null,
   "id": "aea19b89",
   "metadata": {},
   "outputs": [],
   "source": [
    "#이해 완료"
   ]
  },
  {
   "cell_type": "code",
   "execution_count": null,
   "id": "90d9a33c",
   "metadata": {},
   "outputs": [],
   "source": []
  },
  {
   "cell_type": "code",
   "execution_count": null,
   "id": "edce60d9",
   "metadata": {},
   "outputs": [],
   "source": []
  }
 ],
 "metadata": {
  "kernelspec": {
   "display_name": "Python 3 (ipykernel)",
   "language": "python",
   "name": "python3"
  },
  "language_info": {
   "codemirror_mode": {
    "name": "ipython",
    "version": 3
   },
   "file_extension": ".py",
   "mimetype": "text/x-python",
   "name": "python",
   "nbconvert_exporter": "python",
   "pygments_lexer": "ipython3",
   "version": "3.9.12"
  }
 },
 "nbformat": 4,
 "nbformat_minor": 5
}
