{
 "cells": [
  {
   "cell_type": "markdown",
   "id": "90daaf67",
   "metadata": {},
   "source": [
    "Linear probing\n",
    " - 폐쇄 해슁 기법으로 데이터 저장공간을 효율적으로 사용할 수 있음"
   ]
  },
  {
   "cell_type": "code",
   "execution_count": 26,
   "id": "b3bd9f3c",
   "metadata": {},
   "outputs": [],
   "source": [
    "hash_table = list([0 for i in range(8)])\n",
    "\n",
    "def get_key(data):\n",
    "    return hash(data)\n",
    "\n",
    "def hash_function(key):\n",
    "    return key % 8\n",
    "\n",
    "def save_data(data, value):\n",
    "    index_key = get_key(data)\n",
    "    hash_address = hash_function(index_key)\n",
    "    \n",
    "    if hash_table[hash_address] != 0:\n",
    "        for i in range(hash_address, len(hash_table)):\n",
    "            if hash_table[i] == 0:\n",
    "                hash_table[i] =[index_key, value]\n",
    "                return\n",
    "            elif hash_table[i][0] == index_key:\n",
    "                hash_table[i][1] = value\n",
    "                return\n",
    "    else:\n",
    "        hash_table[hash_address] = [index_key, value]\n",
    "        \n",
    "def read_data(data):\n",
    "    index_key = get_key(data)\n",
    "    hash_address = hash_function(index_key)\n",
    "    \n",
    "    if hash_table[hash_address] != 0:\n",
    "        for i in range(hash_address, len(hash_table)):\n",
    "#             if hash_table[i][0] == index_key:\n",
    "#                 return hash_table[i][1]\n",
    "#             else:\n",
    "#                 return print(\"데이터가 없습니다\")\n",
    "            if hash_table[i] == 0:\n",
    "                return None\n",
    "            elif hash_table[i][0] == index_key:\n",
    "                return hash_table[i][1]\n",
    "                \n",
    "    else:\n",
    "        return print(\"데이터가 없습니다\")\n",
    "        "
   ]
  },
  {
   "cell_type": "code",
   "execution_count": 30,
   "id": "dd88ae92",
   "metadata": {},
   "outputs": [
    {
     "data": {
      "text/plain": [
       "'22'"
      ]
     },
     "execution_count": 30,
     "metadata": {},
     "output_type": "execute_result"
    }
   ],
   "source": [
    "save_data('Dd', '11')\n",
    "save_data('Dss', '12')\n",
    "save_data('Dd', '22')\n",
    "save_data('Dss', '22')\n",
    "read_data('Dss')"
   ]
  },
  {
   "cell_type": "code",
   "execution_count": 22,
   "id": "dedad1e1",
   "metadata": {},
   "outputs": [
    {
     "name": "stdout",
     "output_type": "stream",
     "text": [
      "6\n",
      "6\n"
     ]
    }
   ],
   "source": [
    "print(hash('Dd') % 8)\n",
    "print(hash('Dss') % 8)"
   ]
  },
  {
   "cell_type": "code",
   "execution_count": 31,
   "id": "574a974c",
   "metadata": {},
   "outputs": [
    {
     "data": {
      "text/plain": [
       "[0, 0, 0, 0, 0, 0, [6513367752094962870, '22'], [-2230887492896922154, '22']]"
      ]
     },
     "execution_count": 31,
     "metadata": {},
     "output_type": "execute_result"
    }
   ],
   "source": [
    "hash_table"
   ]
  },
  {
   "cell_type": "code",
   "execution_count": null,
   "id": "8e45a7fd",
   "metadata": {},
   "outputs": [],
   "source": []
  },
  {
   "cell_type": "code",
   "execution_count": null,
   "id": "66d2c893",
   "metadata": {},
   "outputs": [],
   "source": []
  }
 ],
 "metadata": {
  "kernelspec": {
   "display_name": "Python 3 (ipykernel)",
   "language": "python",
   "name": "python3"
  },
  "language_info": {
   "codemirror_mode": {
    "name": "ipython",
    "version": 3
   },
   "file_extension": ".py",
   "mimetype": "text/x-python",
   "name": "python",
   "nbconvert_exporter": "python",
   "pygments_lexer": "ipython3",
   "version": "3.9.12"
  }
 },
 "nbformat": 4,
 "nbformat_minor": 5
}
