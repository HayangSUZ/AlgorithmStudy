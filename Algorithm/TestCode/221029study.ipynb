{
 "cells": [
  {
   "cell_type": "markdown",
   "id": "bbc5d041",
   "metadata": {},
   "source": [
    "### 221023 review & node study"
   ]
  },
  {
   "cell_type": "code",
   "execution_count": 2,
   "id": "7f0ea21a",
   "metadata": {},
   "outputs": [],
   "source": [
    "class Node:\n",
    "    def __init__(self,data):\n",
    "        self.data = data\n",
    "        self.next = None\n",
    "\n",
    "class LinkedList:\n",
    "    def __init__(self):\n",
    "        init = Node('init')\n",
    "        self.head = init\n",
    "        self.tail = init\n",
    "        \n",
    "        self.nowNode = None\n",
    "        self.dataLength = 0\n",
    "        \n",
    "    def append(self, data):\n",
    "        newNode = Node(data)\n",
    "        self.tail.next = newNode\n",
    "        self.tail = newNode\n",
    "        self.dataLength += 1\n"
   ]
  },
  {
   "cell_type": "code",
   "execution_count": 4,
   "id": "b7b553cd",
   "metadata": {},
   "outputs": [],
   "source": [
    "l = LinkedList()\n",
    "l.append(10)\n",
    "l.append(20)\n",
    "l.append(30)\n",
    "l.append(40)\n",
    "l.append(50)\n",
    "l.append(15)\n"
   ]
  },
  {
   "cell_type": "code",
   "execution_count": 10,
   "id": "f2f1a37b",
   "metadata": {},
   "outputs": [
    {
     "data": {
      "text/plain": [
       "20"
      ]
     },
     "execution_count": 10,
     "metadata": {},
     "output_type": "execute_result"
    }
   ],
   "source": [
    "l.head.data\n",
    "l.head.next.next.data"
   ]
  },
  {
   "cell_type": "code",
   "execution_count": 11,
   "id": "22bad497",
   "metadata": {},
   "outputs": [
    {
     "data": {
      "text/plain": [
       "6"
      ]
     },
     "execution_count": 11,
     "metadata": {},
     "output_type": "execute_result"
    }
   ],
   "source": [
    "l.dataLength"
   ]
  },
  {
   "cell_type": "code",
   "execution_count": 12,
   "id": "4c70d939",
   "metadata": {},
   "outputs": [],
   "source": [
    "class Node:\n",
    "    def __init__(self, data, next = None):\n",
    "        self.data = data\n",
    "        self.next = next\n",
    "    \n",
    "def add(data):\n",
    "    node = head\n",
    "    while node.next:\n",
    "        node = node.next\n",
    "    node.next = Node(data)\n"
   ]
  },
  {
   "cell_type": "code",
   "execution_count": 24,
   "id": "a35202ca",
   "metadata": {},
   "outputs": [
    {
     "name": "stdout",
     "output_type": "stream",
     "text": [
      "1\n",
      "2\n"
     ]
    }
   ],
   "source": [
    "node_1 = Node(1)\n",
    "node_2 = Node(2)\n",
    "\n",
    "node_1.next = node_2\n",
    "\n",
    "head = node_1\n",
    "\n",
    "node = head\n",
    "while node.next:\n",
    "    print(node.data)\n",
    "    node = node.next\n",
    "print(node.data)\n",
    "\n",
    "node3 = Node(1.5)"
   ]
  },
  {
   "cell_type": "code",
   "execution_count": 25,
   "id": "a6d8d1dc",
   "metadata": {},
   "outputs": [],
   "source": [
    "node = head\n",
    "search = True\n",
    "\n",
    "while search:\n",
    "    if node.data == 1:\n",
    "        search = False\n",
    "    else:\n",
    "        node = node.next\n",
    "\n",
    "node_next = node.next\n",
    "node.next = node3\n",
    "node3.next = node_next\n"
   ]
  },
  {
   "cell_type": "code",
   "execution_count": 26,
   "id": "002d9e24",
   "metadata": {},
   "outputs": [
    {
     "name": "stdout",
     "output_type": "stream",
     "text": [
      "1\n",
      "1.5\n",
      "2\n"
     ]
    }
   ],
   "source": [
    "node = head\n",
    "while node.next:\n",
    "    print(node.data)\n",
    "    node = node.next\n",
    "print(node.data)\n",
    "\n",
    "#데이터의 연결을 재구성"
   ]
  },
  {
   "cell_type": "markdown",
   "id": "658ba724",
   "metadata": {},
   "source": [
    "## 파이썬 객체지향 프로그래밍으로 링크드 리스트 구현하기"
   ]
  },
  {
   "cell_type": "code",
   "execution_count": 68,
   "id": "8526838a",
   "metadata": {},
   "outputs": [],
   "source": [
    "class Node:\n",
    "    def __init__(self, data, next = None):\n",
    "        self.data = data\n",
    "        self.next = next\n",
    "    \n",
    "    \n",
    "class NodeMgmt:\n",
    "    def __init__(self, data):\n",
    "        self.head = Node(data)\n",
    "    \n",
    "    def add(self, data):\n",
    "        if self.head == '':\n",
    "            self.head = Node(data)\n",
    "        else:\n",
    "            node = self.head\n",
    "            while node.next:\n",
    "                node = node.next\n",
    "            node.next = Node(data)\n",
    "            \n",
    "    def delete(self, data):\n",
    "        node = self.head\n",
    "        if self.head == '':\n",
    "            print(\"해당 값을 가진 노드가 없습니다\")\n",
    "            return\n",
    "        elif self.head == data:\n",
    "            temp = node\n",
    "            node = node.next\n",
    "            del temp\n",
    "        else:\n",
    "            while node.next:\n",
    "                if node.next.data == data:\n",
    "                    temp = node.next\n",
    "                    node.next = node.next.next\n",
    "                    del temp\n",
    "                else:\n",
    "                    node = node.next\n",
    "\n",
    "#원래 위 딜리트 코드\n",
    "#         if self.head == '':\n",
    "#             print(\"해당 값을 가진 노드가 없습니다\")\n",
    "#             return\n",
    "#         elif self.head == data:\n",
    "#             temp = self.head\n",
    "#             self.head = self.head.next\n",
    "#             del temp\n",
    "#         else:\n",
    "#             node = self.head\n",
    "#             while node.next:\n",
    "#                 if node.next.data == data:\n",
    "#                     temp = node.next\n",
    "#                     node.next = node.next.next\n",
    "#                     del temp\n",
    "#                 else:\n",
    "#                     node = node.next\n",
    "            \n",
    "    def desc(self):\n",
    "        node = self.head\n",
    "        while node:\n",
    "            print(node.data)\n",
    "            node = node.next\n"
   ]
  },
  {
   "cell_type": "code",
   "execution_count": 69,
   "id": "b191955a",
   "metadata": {},
   "outputs": [
    {
     "name": "stdout",
     "output_type": "stream",
     "text": [
      "0\n"
     ]
    }
   ],
   "source": [
    "linkedlist1 = NodeMgmt(0)\n",
    "linkedlist1.desc()"
   ]
  },
  {
   "cell_type": "code",
   "execution_count": 70,
   "id": "0e7f2b03",
   "metadata": {},
   "outputs": [],
   "source": [
    "for data in range(0,10):\n",
    "    linkedlist1.add(data)\n"
   ]
  },
  {
   "cell_type": "code",
   "execution_count": 75,
   "id": "84b8db3d",
   "metadata": {},
   "outputs": [
    {
     "name": "stdout",
     "output_type": "stream",
     "text": [
      "0\n",
      "0\n",
      "1\n",
      "2\n",
      "3\n",
      "4\n",
      "5\n",
      "6\n",
      "8\n"
     ]
    }
   ],
   "source": [
    "linkedlist1.desc()"
   ]
  },
  {
   "cell_type": "code",
   "execution_count": 74,
   "id": "47badbe7",
   "metadata": {},
   "outputs": [],
   "source": [
    "linkedlist1.delete(7)"
   ]
  },
  {
   "cell_type": "code",
   "execution_count": 66,
   "id": "56e42be6",
   "metadata": {},
   "outputs": [],
   "source": [
    "linkedlist1.add(9)"
   ]
  },
  {
   "cell_type": "code",
   "execution_count": null,
   "id": "0fe4b51e",
   "metadata": {},
   "outputs": [],
   "source": []
  },
  {
   "cell_type": "markdown",
   "id": "2953d294",
   "metadata": {},
   "source": [
    "### 더블링크드리스트"
   ]
  },
  {
   "cell_type": "code",
   "execution_count": 92,
   "id": "f846bc35",
   "metadata": {},
   "outputs": [],
   "source": [
    "class Node:\n",
    "    def __init__(self, data, prev = None, next = None):\n",
    "        self.prev = prev\n",
    "        self.data = data\n",
    "        self.next = next\n",
    "    \n",
    "class NodeMgmt:\n",
    "    def __init__(self, data):\n",
    "        self.head = Node(data)\n",
    "        self.tail = self.head\n",
    "        \n",
    "    def insert(self, data):\n",
    "        if self.head == None:\n",
    "            self.head = Node(data)\n",
    "            self.tail = self.head\n",
    "        else:\n",
    "            node = self.head\n",
    "            while node.next:\n",
    "                node = node.next\n",
    "            new = Node(data)\n",
    "            node.next = new\n",
    "            new.prev = node\n",
    "            self.tail = new\n",
    "            \n",
    "    def desc(self):\n",
    "        node = self.head\n",
    "        while node:\n",
    "            print(node.data)\n",
    "            node = node.next\n",
    "\n",
    "            "
   ]
  },
  {
   "cell_type": "code",
   "execution_count": 94,
   "id": "c5f0d855",
   "metadata": {},
   "outputs": [
    {
     "name": "stdout",
     "output_type": "stream",
     "text": [
      "5\n",
      "7\n",
      "0\n",
      "1\n",
      "2\n"
     ]
    }
   ],
   "source": [
    "doubleLinkedlist = NodeMgmt(5)\n",
    "doubleLinkedlist.insert(7)\n",
    "\n",
    "for data in range(3):\n",
    "    doubleLinkedlist.insert(data)\n",
    "    \n",
    "doubleLinkedlist.desc()"
   ]
  },
  {
   "cell_type": "code",
   "execution_count": 108,
   "id": "355c0c67",
   "metadata": {},
   "outputs": [],
   "source": [
    "class Node:\n",
    "    def __init__(self, data, prev = None, next = None):\n",
    "        self.prev = prev\n",
    "        self.data = data\n",
    "        self.next = next\n",
    "    \n",
    "class NodeMgmt:\n",
    "    def __init__(self, data):\n",
    "        self.head = Node(data)\n",
    "        self.tail = self.head\n",
    "        \n",
    "    def insert(self, data):\n",
    "        if self.head == None:\n",
    "            self.head = Node(data)\n",
    "            self.tail = self.head\n",
    "        else:\n",
    "            node = self.head\n",
    "            while node.next:\n",
    "                node = node.next\n",
    "            new = Node(data)\n",
    "            node.next = new\n",
    "            new.prev = node\n",
    "            self.tail = new\n",
    "            \n",
    "    def desc(self):\n",
    "        node = self.head\n",
    "        while node:\n",
    "            print(node.data)\n",
    "            node = node.next\n",
    "\n",
    "    def search_from_head(self,data):\n",
    "        node = self.head\n",
    "        \n",
    "        while node:\n",
    "            if node.data == data:\n",
    "                return node\n",
    "            else:\n",
    "                node = node.next\n",
    "        return False\n",
    "    \n",
    "    def search_from_tail(self, data):\n",
    "        if self.head == None:\n",
    "            return False\n",
    "        \n",
    "        node = self.tail\n",
    "        while node:\n",
    "            if node.data == data:\n",
    "                return node\n",
    "            else:\n",
    "                node = node.prev\n",
    "        return False\n",
    "    \n",
    "    "
   ]
  },
  {
   "cell_type": "code",
   "execution_count": 109,
   "id": "f54e2c7d",
   "metadata": {},
   "outputs": [
    {
     "name": "stdout",
     "output_type": "stream",
     "text": [
      "5\n",
      "7\n",
      "0\n",
      "1\n",
      "2\n"
     ]
    }
   ],
   "source": [
    "doubleLinkedlist = NodeMgmt(5)\n",
    "doubleLinkedlist.insert(7)\n",
    "\n",
    "for data in range(3):\n",
    "    doubleLinkedlist.insert(data)\n",
    "    \n",
    "doubleLinkedlist.desc()"
   ]
  },
  {
   "cell_type": "code",
   "execution_count": 113,
   "id": "c19baeff",
   "metadata": {},
   "outputs": [
    {
     "data": {
      "text/plain": [
       "5"
      ]
     },
     "execution_count": 113,
     "metadata": {},
     "output_type": "execute_result"
    }
   ],
   "source": [
    "doubleLinkedlist.search_from_head(5).data\n",
    "#doubleLinkedlist.search_from_tail(2).data"
   ]
  },
  {
   "cell_type": "code",
   "execution_count": null,
   "id": "251ecc93",
   "metadata": {},
   "outputs": [],
   "source": []
  }
 ],
 "metadata": {
  "kernelspec": {
   "display_name": "Python 3 (ipykernel)",
   "language": "python",
   "name": "python3"
  },
  "language_info": {
   "codemirror_mode": {
    "name": "ipython",
    "version": 3
   },
   "file_extension": ".py",
   "mimetype": "text/x-python",
   "name": "python",
   "nbconvert_exporter": "python",
   "pygments_lexer": "ipython3",
   "version": "3.9.12"
  }
 },
 "nbformat": 4,
 "nbformat_minor": 5
}
