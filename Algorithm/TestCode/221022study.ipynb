{
 "cells": [
  {
   "cell_type": "markdown",
   "id": "882bf6c2",
   "metadata": {},
   "source": [
    "### 221017 rewiew"
   ]
  },
  {
   "cell_type": "code",
   "execution_count": 9,
   "id": "5bfff2a9",
   "metadata": {},
   "outputs": [],
   "source": [
    "import queue\n",
    "\n",
    "data = queue.Queue()\n",
    "\n",
    "data.put(3)\n",
    "data.put(5)\n",
    "data.put(7)"
   ]
  },
  {
   "cell_type": "code",
   "execution_count": 10,
   "id": "0c960006",
   "metadata": {},
   "outputs": [
    {
     "name": "stdout",
     "output_type": "stream",
     "text": [
      "<queue.Queue object at 0x7fc6001f0eb0>\n"
     ]
    }
   ],
   "source": [
    "print(data)"
   ]
  },
  {
   "cell_type": "code",
   "execution_count": 14,
   "id": "ac05bcd8",
   "metadata": {},
   "outputs": [
    {
     "name": "stdout",
     "output_type": "stream",
     "text": [
      "<bound method Queue.qsize of <queue.Queue object at 0x7fc6001f0eb0>>\n"
     ]
    }
   ],
   "source": [
    "print(data.qsize)"
   ]
  },
  {
   "cell_type": "code",
   "execution_count": 15,
   "id": "3818f116",
   "metadata": {},
   "outputs": [
    {
     "data": {
      "text/plain": [
       "3"
      ]
     },
     "execution_count": 15,
     "metadata": {},
     "output_type": "execute_result"
    }
   ],
   "source": [
    "data.get()"
   ]
  },
  {
   "cell_type": "code",
   "execution_count": 16,
   "id": "e7a2700f",
   "metadata": {},
   "outputs": [
    {
     "data": {
      "text/plain": [
       "5"
      ]
     },
     "execution_count": 16,
     "metadata": {},
     "output_type": "execute_result"
    }
   ],
   "source": [
    "data.get()"
   ]
  },
  {
   "cell_type": "code",
   "execution_count": 18,
   "id": "f6d18963",
   "metadata": {},
   "outputs": [
    {
     "data": {
      "text/plain": [
       "1"
      ]
     },
     "execution_count": 18,
     "metadata": {},
     "output_type": "execute_result"
    }
   ],
   "source": [
    "data.qsize()"
   ]
  },
  {
   "cell_type": "code",
   "execution_count": 19,
   "id": "5ae26762",
   "metadata": {},
   "outputs": [],
   "source": [
    "data.put(5)"
   ]
  },
  {
   "cell_type": "code",
   "execution_count": 21,
   "id": "eba4e3c7",
   "metadata": {},
   "outputs": [
    {
     "data": {
      "text/plain": [
       "5"
      ]
     },
     "execution_count": 21,
     "metadata": {},
     "output_type": "execute_result"
    }
   ],
   "source": [
    "data.get()"
   ]
  },
  {
   "cell_type": "code",
   "execution_count": 24,
   "id": "0f9cfc22",
   "metadata": {},
   "outputs": [],
   "source": [
    "queue_list = list()\n",
    "\n",
    "def enqueue(data) :\n",
    "    queue_list.append(data)\n",
    "    \n",
    "def dequeue() :\n",
    "    data = queue_list[0]\n",
    "    del queue_list[0]\n",
    "    return data\n",
    "\n",
    "    \n",
    "for index in range(10):\n",
    "    enqueue(index)\n"
   ]
  },
  {
   "cell_type": "code",
   "execution_count": 29,
   "id": "634e1140",
   "metadata": {},
   "outputs": [
    {
     "data": {
      "text/plain": [
       "9"
      ]
     },
     "execution_count": 29,
     "metadata": {},
     "output_type": "execute_result"
    }
   ],
   "source": [
    "queue_list[9]"
   ]
  },
  {
   "cell_type": "code",
   "execution_count": 31,
   "id": "6ff90d1d",
   "metadata": {},
   "outputs": [
    {
     "data": {
      "text/plain": [
       "10"
      ]
     },
     "execution_count": 31,
     "metadata": {},
     "output_type": "execute_result"
    }
   ],
   "source": [
    "len(queue_list)"
   ]
  },
  {
   "cell_type": "markdown",
   "id": "0747d4fa",
   "metadata": {},
   "source": [
    "## 221022 수업"
   ]
  },
  {
   "cell_type": "markdown",
   "id": "df051b3c",
   "metadata": {},
   "source": [
    "### 스택(stack)"
   ]
  },
  {
   "cell_type": "markdown",
   "id": "0bc78ede",
   "metadata": {},
   "source": [
    "##### queue : FIFO / stack : LIFO\n",
    "stack ex) 실행취소(?), 프로세스 함수 동작\n",
    "큐에서는 enqueue, dequeue\n",
    "스택에서는 push, pop"
   ]
  },
  {
   "cell_type": "code",
   "execution_count": 32,
   "id": "5aed5707",
   "metadata": {},
   "outputs": [],
   "source": [
    "#재귀함수\n",
    "#이거 재밌다! 종종 함수 생각해보기\n",
    "\n",
    "def recursive(data):\n",
    "    if data < 0:\n",
    "        print(\"ended\")\n",
    "    else:\n",
    "        print(data)\n",
    "        recursive(data - 1)\n",
    "        print(\"returned\", data)\n",
    "        \n"
   ]
  },
  {
   "cell_type": "code",
   "execution_count": 33,
   "id": "1af1600e",
   "metadata": {},
   "outputs": [
    {
     "name": "stdout",
     "output_type": "stream",
     "text": [
      "4\n",
      "3\n",
      "2\n",
      "1\n",
      "0\n",
      "ended\n",
      "returned 0\n",
      "returned 1\n",
      "returned 2\n",
      "returned 3\n",
      "returned 4\n"
     ]
    }
   ],
   "source": [
    "recursive(4)"
   ]
  },
  {
   "cell_type": "markdown",
   "id": "1455e6f4",
   "metadata": {},
   "source": [
    "##### 스택의 경우 최대 공간을 미리 정의해야한다 -> 데이터 공간의 낭비가 발생할 수 있음"
   ]
  },
  {
   "cell_type": "markdown",
   "id": "bf03a161",
   "metadata": {},
   "source": [
    "### 프로그래밍 연습"
   ]
  },
  {
   "cell_type": "code",
   "execution_count": 34,
   "id": "899bfd48",
   "metadata": {},
   "outputs": [
    {
     "data": {
      "text/plain": [
       "[1, 2]"
      ]
     },
     "execution_count": 34,
     "metadata": {},
     "output_type": "execute_result"
    }
   ],
   "source": [
    "data_stack = list() # list 에는 append, pop 지원 -> stack 정책 그대로 활용\n",
    "\n",
    "data_stack.append(1)\n",
    "data_stack.append(2)\n",
    "\n",
    "data_stack "
   ]
  },
  {
   "cell_type": "code",
   "execution_count": 35,
   "id": "926d3dc1",
   "metadata": {},
   "outputs": [
    {
     "data": {
      "text/plain": [
       "2"
      ]
     },
     "execution_count": 35,
     "metadata": {},
     "output_type": "execute_result"
    }
   ],
   "source": [
    "data_stack.pop()"
   ]
  },
  {
   "cell_type": "code",
   "execution_count": 36,
   "id": "8668cd75",
   "metadata": {},
   "outputs": [
    {
     "data": {
      "text/plain": [
       "[1]"
      ]
     },
     "execution_count": 36,
     "metadata": {},
     "output_type": "execute_result"
    }
   ],
   "source": [
    "data_stack"
   ]
  },
  {
   "cell_type": "code",
   "execution_count": 37,
   "id": "da0492ad",
   "metadata": {},
   "outputs": [],
   "source": [
    "###"
   ]
  },
  {
   "cell_type": "code",
   "execution_count": 39,
   "id": "bfb7e4ff",
   "metadata": {},
   "outputs": [],
   "source": [
    "stack_list = list()\n",
    "\n",
    "def push(data):\n",
    "    stack_list.append(data)\n",
    "    \n",
    "def pop():\n",
    "    data = stack_list[-1] #리스트 사이즈에 상관없이 [-1]은 항상 마지막 항목\n",
    "    del stack_list[-1]\n",
    "    return data\n",
    "\n",
    "for index in range(10):\n",
    "    push(index)"
   ]
  },
  {
   "cell_type": "code",
   "execution_count": 42,
   "id": "acca732b",
   "metadata": {},
   "outputs": [
    {
     "data": {
      "text/plain": [
       "7"
      ]
     },
     "execution_count": 42,
     "metadata": {},
     "output_type": "execute_result"
    }
   ],
   "source": [
    "pop()"
   ]
  },
  {
   "cell_type": "code",
   "execution_count": 43,
   "id": "7dfcb665",
   "metadata": {},
   "outputs": [
    {
     "data": {
      "text/plain": [
       "[0, 1, 2, 3, 4, 5, 6]"
      ]
     },
     "execution_count": 43,
     "metadata": {},
     "output_type": "execute_result"
    }
   ],
   "source": [
    "stack_list"
   ]
  },
  {
   "cell_type": "code",
   "execution_count": null,
   "id": "8d5bdc00",
   "metadata": {},
   "outputs": [],
   "source": []
  },
  {
   "cell_type": "markdown",
   "id": "847d6816",
   "metadata": {},
   "source": [
    "## 링크드리스트 Linked List"
   ]
  },
  {
   "cell_type": "markdown",
   "id": "ff11e8ce",
   "metadata": {},
   "source": [
    "#### \n",
    "node : 데이터 저장 단위(데이터 값 + 포인터)\n",
    "\n",
    "pointer : 각 노드 안에서, 다음이나 이전의 노드와의 연결 정보를 가지고 있는 공간\n",
    "\n",
    "\n",
    "객체 연습👇"
   ]
  },
  {
   "cell_type": "code",
   "execution_count": 44,
   "id": "0d023731",
   "metadata": {},
   "outputs": [
    {
     "name": "stdout",
     "output_type": "stream",
     "text": [
      "10 7\n",
      "5 7\n",
      "red blue\n"
     ]
    }
   ],
   "source": [
    "class dave:\n",
    "    width = 0\n",
    "    height = 0\n",
    "    color = ''\n",
    "    \n",
    "square_1 = dave()\n",
    "square_2 = dave()\n",
    "\n",
    "square_1.width = 10\n",
    "square_1.height = 5\n",
    "square_1.color = 'red'\n",
    "\n",
    "square_2.width = 7\n",
    "square_2.height = 7\n",
    "square_2.color = 'blue'\n",
    "\n",
    "print(square_1.width, square_2.width)\n",
    "print(square_1.height, square_2.height)\n",
    "print(square_1.color, square_2.color)\n",
    "\n"
   ]
  },
  {
   "cell_type": "code",
   "execution_count": 48,
   "id": "e3707948",
   "metadata": {},
   "outputs": [],
   "source": [
    "class quardangle:\n",
    "    width = 0\n",
    "    height = 0\n",
    "    color = 'purple'\n",
    "    \n",
    "    def get_area(self):\n",
    "        return self.width * self.height\n",
    "    \n",
    "    def set_area(self, data1, data2):\n",
    "        self.width = data1\n",
    "        self.height = data2\n",
    "        \n",
    "\n",
    "# python method 는 항상 첫번째 파라미터로 self를 사용\n",
    "# 인자가 필요없을 때에도 동일\n",
    "\n",
    "# class의 attribute는 내부에서 접근 시, self.attribute 로 접근\n",
    "\n"
   ]
  },
  {
   "cell_type": "code",
   "execution_count": 54,
   "id": "9c86b37a",
   "metadata": {},
   "outputs": [],
   "source": [
    "square = quardangle()\n",
    "square.set_area(7, 5)"
   ]
  },
  {
   "cell_type": "code",
   "execution_count": 52,
   "id": "167260d3",
   "metadata": {},
   "outputs": [
    {
     "data": {
      "text/plain": [
       "5"
      ]
     },
     "execution_count": 52,
     "metadata": {},
     "output_type": "execute_result"
    }
   ],
   "source": [
    "square.height"
   ]
  },
  {
   "cell_type": "code",
   "execution_count": 55,
   "id": "3cccfc0f",
   "metadata": {},
   "outputs": [
    {
     "data": {
      "text/plain": [
       "35"
      ]
     },
     "execution_count": 55,
     "metadata": {},
     "output_type": "execute_result"
    }
   ],
   "source": [
    "square.get_area()"
   ]
  },
  {
   "cell_type": "code",
   "execution_count": 67,
   "id": "b043fc6b",
   "metadata": {},
   "outputs": [],
   "source": [
    "class Quad:\n",
    "    width = 0\n",
    "    height = 0\n",
    "    color = 'purple'\n",
    "    \n",
    "    def set_area(self, wid, hei, col):\n",
    "        self.width = wid\n",
    "        self.height = hei\n",
    "        self.color = col\n",
    "    \n",
    "    def get_area(self):\n",
    "        return (self.width * self.height)   \n",
    "\n",
    "    "
   ]
  },
  {
   "cell_type": "code",
   "execution_count": 68,
   "id": "d55e8018",
   "metadata": {},
   "outputs": [],
   "source": [
    "jik = Quad()\n",
    "jung = Quad()\n",
    "\n",
    "jik.set_area(10,5,'purple')\n",
    "jung.set_area(7,7,'yellow')"
   ]
  },
  {
   "cell_type": "code",
   "execution_count": 73,
   "id": "1c3f5e16",
   "metadata": {},
   "outputs": [
    {
     "name": "stdout",
     "output_type": "stream",
     "text": [
      "50 purple\n"
     ]
    }
   ],
   "source": [
    "print(jik.get_area(), jik.color)"
   ]
  },
  {
   "cell_type": "code",
   "execution_count": 74,
   "id": "1b07cf32",
   "metadata": {},
   "outputs": [
    {
     "name": "stdout",
     "output_type": "stream",
     "text": [
      "49 yellow\n"
     ]
    }
   ],
   "source": [
    "print(jung.get_area(), jung.color)"
   ]
  },
  {
   "cell_type": "code",
   "execution_count": 75,
   "id": "481655e9",
   "metadata": {},
   "outputs": [],
   "source": [
    "class quad:\n",
    "    def __init__(self, width, height, color):\n",
    "        self.width = width\n",
    "        self.height = height\n",
    "        self.color = color\n",
    "        \n",
    "    def __del__(self):\n",
    "        print(\"quad object is deleted\")\n",
    "\n",
    "square = quad(5, 5, \"black\")"
   ]
  },
  {
   "cell_type": "code",
   "execution_count": 77,
   "id": "946f2656",
   "metadata": {},
   "outputs": [
    {
     "data": {
      "text/plain": [
       "5"
      ]
     },
     "execution_count": 77,
     "metadata": {},
     "output_type": "execute_result"
    }
   ],
   "source": [
    "square.width"
   ]
  },
  {
   "cell_type": "code",
   "execution_count": 78,
   "id": "5afdda2c",
   "metadata": {},
   "outputs": [
    {
     "name": "stdout",
     "output_type": "stream",
     "text": [
      "quad object is deleted\n"
     ]
    }
   ],
   "source": [
    "del square"
   ]
  },
  {
   "cell_type": "code",
   "execution_count": 79,
   "id": "27ad547f",
   "metadata": {},
   "outputs": [
    {
     "ename": "NameError",
     "evalue": "name 'square' is not defined",
     "output_type": "error",
     "traceback": [
      "\u001b[0;31m---------------------------------------------------------------------------\u001b[0m",
      "\u001b[0;31mNameError\u001b[0m                                 Traceback (most recent call last)",
      "Input \u001b[0;32mIn [79]\u001b[0m, in \u001b[0;36m<cell line: 1>\u001b[0;34m()\u001b[0m\n\u001b[0;32m----> 1\u001b[0m \u001b[38;5;28;01mdel\u001b[39;00m square\n",
      "\u001b[0;31mNameError\u001b[0m: name 'square' is not defined"
     ]
    }
   ],
   "source": [
    "del square"
   ]
  },
  {
   "cell_type": "code",
   "execution_count": 80,
   "id": "270d40f5",
   "metadata": {},
   "outputs": [],
   "source": [
    "class tri:\n",
    "    attribute = 0\n",
    "    name = ''\n",
    "    \n",
    "    def set_tri(self, attribute, name):\n",
    "        self.attribute = attribute\n",
    "        self.name = name\n",
    "    \n",
    "    def __del__(self):\n",
    "        print(\"object is deleted\")"
   ]
  },
  {
   "cell_type": "code",
   "execution_count": 81,
   "id": "361e31fe",
   "metadata": {},
   "outputs": [],
   "source": [
    "sam = tri()"
   ]
  },
  {
   "cell_type": "code",
   "execution_count": 82,
   "id": "68327359",
   "metadata": {},
   "outputs": [],
   "source": [
    "sam.set_tri(3, 'sam')"
   ]
  },
  {
   "cell_type": "code",
   "execution_count": 83,
   "id": "79503347",
   "metadata": {},
   "outputs": [
    {
     "data": {
      "text/plain": [
       "3"
      ]
     },
     "execution_count": 83,
     "metadata": {},
     "output_type": "execute_result"
    }
   ],
   "source": [
    "sam.attribute"
   ]
  },
  {
   "cell_type": "code",
   "execution_count": 84,
   "id": "7236a3ef",
   "metadata": {},
   "outputs": [
    {
     "name": "stdout",
     "output_type": "stream",
     "text": [
      "object is deleted\n"
     ]
    }
   ],
   "source": [
    "del sam"
   ]
  },
  {
   "cell_type": "markdown",
   "id": "6479bd14",
   "metadata": {},
   "source": [
    "### 정삼각형 객체 예시"
   ]
  },
  {
   "cell_type": "code",
   "execution_count": 86,
   "id": "87d2a9b3",
   "metadata": {},
   "outputs": [
    {
     "name": "stdout",
     "output_type": "stream",
     "text": [
      "object is deleted\n",
      "43.30127018922193 dave\n"
     ]
    }
   ],
   "source": [
    "import math\n",
    "\n",
    "class Figure:\n",
    "    def __init__(self, length, name):\n",
    "        self.length = length\n",
    "        self.name = name\n",
    "        \n",
    "    def get_area(self):\n",
    "        return (math.sqrt(3)/4) * self.length**2\n",
    "        #(math.sqrt(3)/2) * math.pow(self.length, 2)도 가능함\n",
    "    \n",
    "    def get_name(self):\n",
    "        return self.name\n",
    "    \n",
    "    def __del__(self):\n",
    "        print ('object is deleted')\n",
    "        \n",
    "square = Figure(10, 'dave')\n",
    "print (square.get_area(), square.get_name())"
   ]
  },
  {
   "cell_type": "code",
   "execution_count": null,
   "id": "4a3147d9",
   "metadata": {},
   "outputs": [],
   "source": []
  }
 ],
 "metadata": {
  "kernelspec": {
   "display_name": "Python 3 (ipykernel)",
   "language": "python",
   "name": "python3"
  },
  "language_info": {
   "codemirror_mode": {
    "name": "ipython",
    "version": 3
   },
   "file_extension": ".py",
   "mimetype": "text/x-python",
   "name": "python",
   "nbconvert_exporter": "python",
   "pygments_lexer": "ipython3",
   "version": "3.9.12"
  }
 },
 "nbformat": 4,
 "nbformat_minor": 5
}
