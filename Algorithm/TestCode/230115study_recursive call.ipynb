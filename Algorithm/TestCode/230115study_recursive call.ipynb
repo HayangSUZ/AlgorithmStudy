{
 "cells": [
  {
   "cell_type": "markdown",
   "id": "783a0477",
   "metadata": {},
   "source": [
    "### 팩토리얼을 구하는 알고리즘을 재귀용법을 활용하여 알고리즘 작성하기"
   ]
  },
  {
   "cell_type": "markdown",
   "id": "74bb1372",
   "metadata": {},
   "source": [
    "n! = n x (n-1)!\n",
    "\n",
    "함수를 만들어서\n",
    "n>1이면 n x (n-1)!\n",
    "n==1이면 return n\n"
   ]
  },
  {
   "cell_type": "code",
   "execution_count": 3,
   "id": "67423f63",
   "metadata": {},
   "outputs": [],
   "source": [
    "def factorial(num):\n",
    "    if num > 1:\n",
    "        return num*factorial(num-1)\n",
    "    else:\n",
    "        return num\n",
    "    "
   ]
  },
  {
   "cell_type": "code",
   "execution_count": 4,
   "id": "9b9f8756",
   "metadata": {},
   "outputs": [
    {
     "name": "stdout",
     "output_type": "stream",
     "text": [
      "0\n",
      "1\n",
      "2\n",
      "6\n",
      "24\n",
      "120\n",
      "720\n",
      "5040\n",
      "40320\n",
      "362880\n"
     ]
    }
   ],
   "source": [
    "for num in range(10):\n",
    "    print(factorial(num))"
   ]
  },
  {
   "cell_type": "code",
   "execution_count": 8,
   "id": "23e573e1",
   "metadata": {},
   "outputs": [
    {
     "data": {
      "text/plain": [
       "402387260077093773543702433923003985719374864210714632543799910429938512398629020592044208486969404800479988610197196058631666872994808558901323829669944590997424504087073759918823627727188732519779505950995276120874975462497043601418278094646496291056393887437886487337119181045825783647849977012476632889835955735432513185323958463075557409114262417474349347553428646576611667797396668820291207379143853719588249808126867838374559731746136085379534524221586593201928090878297308431392844403281231558611036976801357304216168747609675871348312025478589320767169132448426236131412508780208000261683151027341827977704784635868170164365024153691398281264810213092761244896359928705114964975419909342221566832572080821333186116811553615836546984046708975602900950537616475847728421889679646244945160765353408198901385442487984959953319101723355556602139450399736280750137837615307127761926849034352625200015888535147331611702103968175921510907788019393178114194545257223865541461062892187960223838971476088506276862967146674697562911234082439208160153780889893964518263243671616762179168909779911903754031274622289988005195444414282012187361745992642956581746628302955570299024324153181617210465832036786906117260158783520751516284225540265170483304226143974286933061690897968482590125458327168226458066526769958652682272807075781391858178889652208164348344825993266043367660176999612831860788386150279465955131156552036093988180612138558600301435694527224206344631797460594682573103790084024432438465657245014402821885252470935190620929023136493273497565513958720559654228749774011413346962715422845862377387538230483865688976461927383814900140767310446640259899490222221765904339901886018566526485061799702356193897017860040811889729918311021171229845901641921068884387121855646124960798722908519296819372388642614839657382291123125024186649353143970137428531926649875337218940694281434118520158014123344828015051399694290153483077644569099073152433278288269864602789864321139083506217095002597389863554277196742822248757586765752344220207573630569498825087968928162753848863396909959826280956121450994871701244516461260379029309120889086942028510640182154399457156805941872748998094254742173582401063677404595741785160829230135358081840096996372524230560855903700624271243416909004153690105933983835777939410970027753472000000000000000000000000000000000000000000000000000000000000000000000000000000000000000000000000000000000000000000000000000000000000000000000000000000000000000000000000000000000000000000000000000000000000000000000000000000000000000000000000000000000"
      ]
     },
     "execution_count": 8,
     "metadata": {},
     "output_type": "execute_result"
    }
   ],
   "source": [
    "factorial(1000) # 파이썬에는 재귀 뎁쓰가 1000까지만 허용한다"
   ]
  },
  {
   "cell_type": "code",
   "execution_count": null,
   "id": "15eed4b7",
   "metadata": {},
   "outputs": [],
   "source": [
    "#일반적인 형태\n",
    "\n",
    "def function(입력):\n",
    "    if 입력 > 일정값: #입력이 일정 값 이상이면\n",
    "        return function(입력 - 1) #입력값 보다 작은 값\n",
    "    else:\n",
    "        return 일정값, 입력값, 또는 특정 값 #재귀 호출 종료\n",
    "    \n",
    "\n",
    "#일반적인 형태 2\n",
    "\n",
    "def function(입력):\n",
    "    if 입력 <= 일정값: #입력이 일정 값보다 작으면\n",
    "        return 일정값, 입력값, 또는 특정 값 #재귀 호출 종료\n",
    "    function(입력보다 작은 값)\n",
    "    return 결과값\n",
    "\n",
    "#재귀 호출은 스택의 전형적인 예이다.\n"
   ]
  },
  {
   "cell_type": "markdown",
   "id": "86d6a16b",
   "metadata": {},
   "source": [
    "### 재귀 함수를 이용해서 1부터 num까지 곱을 출력"
   ]
  },
  {
   "cell_type": "code",
   "execution_count": 10,
   "id": "39093f7a",
   "metadata": {},
   "outputs": [],
   "source": [
    "def multiple(num):\n",
    "    return_value = 1\n",
    "    for index in range (1, num + 1):\n",
    "        return_value *= index\n",
    "    return return_value\n",
    "    "
   ]
  },
  {
   "cell_type": "code",
   "execution_count": 16,
   "id": "28226260",
   "metadata": {},
   "outputs": [
    {
     "data": {
      "text/plain": [
       "3628800"
      ]
     },
     "execution_count": 16,
     "metadata": {},
     "output_type": "execute_result"
    }
   ],
   "source": [
    "multiple(10)"
   ]
  },
  {
   "cell_type": "code",
   "execution_count": 13,
   "id": "201ff069",
   "metadata": {},
   "outputs": [],
   "source": [
    "def multiple_recursive(num):\n",
    "    if num <= 1:\n",
    "        return num\n",
    "    return num * multiple(num -1)"
   ]
  },
  {
   "cell_type": "code",
   "execution_count": 15,
   "id": "d001a482",
   "metadata": {},
   "outputs": [
    {
     "data": {
      "text/plain": [
       "3628800"
      ]
     },
     "execution_count": 15,
     "metadata": {},
     "output_type": "execute_result"
    }
   ],
   "source": [
    "multiple_recursive(10)"
   ]
  },
  {
   "cell_type": "markdown",
   "id": "cb8d78d3",
   "metadata": {},
   "source": [
    "### 숫자가 들어 있는 리스트가 주어졌을 때, 리스트의 합을 리턴하는 함수"
   ]
  },
  {
   "cell_type": "code",
   "execution_count": 17,
   "id": "baef7628",
   "metadata": {},
   "outputs": [
    {
     "data": {
      "text/plain": [
       "[75, 54, 51, 81, 82, 40, 86, 61, 38, 23]"
      ]
     },
     "execution_count": 17,
     "metadata": {},
     "output_type": "execute_result"
    }
   ],
   "source": [
    "import random\n",
    "data = random.sample(range(100), 10)\n",
    "data"
   ]
  },
  {
   "cell_type": "code",
   "execution_count": 24,
   "id": "dd3d9db3",
   "metadata": {},
   "outputs": [],
   "source": [
    "def sum_list(data):\n",
    "    if len(data) <= 1:\n",
    "        return data[0]\n",
    "    return data[0] + sum_list(data[1:]) #1번부터 마지막까지를 넘김(슬라이싱)\n",
    "    "
   ]
  },
  {
   "cell_type": "code",
   "execution_count": 25,
   "id": "fb165f4a",
   "metadata": {},
   "outputs": [
    {
     "data": {
      "text/plain": [
       "55"
      ]
     },
     "execution_count": 25,
     "metadata": {},
     "output_type": "execute_result"
    }
   ],
   "source": [
    "test = [1,2,3,4,5,6,7,8,9,10]\n",
    "len(test)\n",
    "sum_list(test)"
   ]
  },
  {
   "cell_type": "code",
   "execution_count": 26,
   "id": "ca0f2224",
   "metadata": {},
   "outputs": [
    {
     "data": {
      "text/plain": [
       "591"
      ]
     },
     "execution_count": 26,
     "metadata": {},
     "output_type": "execute_result"
    }
   ],
   "source": [
    "sum_list(data)"
   ]
  },
  {
   "cell_type": "markdown",
   "id": "b139115a",
   "metadata": {},
   "source": [
    "### 회문 프로그래밍\n",
    "\n",
    "회문은 순서를 거꾸로 읽어도 제대로 읽은 것과 같은 단어와 문장을 의미한다.\n",
    "회문을 판별할 수 있는 함수를 리스트 슬라이싱을 활용하여 만드시오\n",
    "\n",
    "ex. level"
   ]
  },
  {
   "cell_type": "code",
   "execution_count": 45,
   "id": "337d872e",
   "metadata": {},
   "outputs": [],
   "source": [
    "def recursive_string(text):\n",
    "    if len(text) > 1:\n",
    "        if text[0] == text[-1]:\n",
    "            return recursive_string(text[1:-1])\n",
    "        else:\n",
    "            return print(\"회문이 아닙니다\")\n",
    "    else:\n",
    "        return print('회문입니다')\n",
    "    "
   ]
  },
  {
   "cell_type": "code",
   "execution_count": 40,
   "id": "5e9c3a38",
   "metadata": {},
   "outputs": [
    {
     "data": {
      "text/plain": [
       "'eve'"
      ]
     },
     "execution_count": 40,
     "metadata": {},
     "output_type": "execute_result"
    }
   ],
   "source": [
    "text = 'level'\n",
    "text[1:-1] # 슬라이싱 [1:3] 이면 1부터 2까지 슬라이싱, 즉, [n:m] 이면 n부터 m-1까지"
   ]
  },
  {
   "cell_type": "code",
   "execution_count": 54,
   "id": "2de1d535",
   "metadata": {},
   "outputs": [
    {
     "name": "stdout",
     "output_type": "stream",
     "text": [
      "회문입니다\n"
     ]
    }
   ],
   "source": [
    "recursive_string('looooooooooooooooooooooooooooooooooool')"
   ]
  },
  {
   "cell_type": "code",
   "execution_count": 56,
   "id": "4de1f49a",
   "metadata": {},
   "outputs": [],
   "source": [
    "#강사님 코드\n",
    "def palindrome(string):\n",
    "    \n",
    "    if len(string) <= 1:\n",
    "        return True\n",
    "    \n",
    "    if string[0] == string[-1]:\n",
    "        return palindrome(string[1-1])\n",
    "    else:\n",
    "        return False\n",
    "    "
   ]
  },
  {
   "cell_type": "markdown",
   "id": "18e4a782",
   "metadata": {},
   "source": [
    "### 연습 1\n",
    "\n",
    "1. 정수 n에 대해\n",
    "2. n이 홀수이면 3 * n+1\n",
    "3. n이 짝수이면 n/2\n",
    "4. n이 1이 될 때까지 진행"
   ]
  },
  {
   "cell_type": "code",
   "execution_count": 75,
   "id": "f9a39933",
   "metadata": {},
   "outputs": [],
   "source": [
    "def calfunc(n):\n",
    "    print(n)\n",
    "    if n > 1:\n",
    "        if n % 2 == 1:\n",
    "            n = 3 * n + 1\n",
    "            return calfunc(n)\n",
    "        elif n % 2 == 0:\n",
    "            n = n / 2\n",
    "            return calfunc(n)\n",
    "    elif n == 1:\n",
    "        return n\n",
    "    \n",
    "    "
   ]
  },
  {
   "cell_type": "code",
   "execution_count": 76,
   "id": "e0992a7d",
   "metadata": {},
   "outputs": [
    {
     "name": "stdout",
     "output_type": "stream",
     "text": [
      "3\n",
      "10\n",
      "5.0\n",
      "16.0\n",
      "8.0\n",
      "4.0\n",
      "2.0\n",
      "1.0\n"
     ]
    },
    {
     "data": {
      "text/plain": [
       "1.0"
      ]
     },
     "execution_count": 76,
     "metadata": {},
     "output_type": "execute_result"
    }
   ],
   "source": [
    "calfunc(3)"
   ]
  },
  {
   "cell_type": "code",
   "execution_count": 77,
   "id": "5b2aff75",
   "metadata": {},
   "outputs": [],
   "source": [
    "#강사님 코드\n",
    "\n",
    "def func_5(n):\n",
    "    if n ==1:\n",
    "        return n\n",
    "    \n",
    "    if n % 2 == 1:\n",
    "        return(func(3 * n + 1))\n",
    "    else:\n",
    "        return(func(n / 2))"
   ]
  },
  {
   "cell_type": "code",
   "execution_count": null,
   "id": "058d1844",
   "metadata": {},
   "outputs": [],
   "source": []
  }
 ],
 "metadata": {
  "kernelspec": {
   "display_name": "Python 3 (ipykernel)",
   "language": "python",
   "name": "python3"
  },
  "language_info": {
   "codemirror_mode": {
    "name": "ipython",
    "version": 3
   },
   "file_extension": ".py",
   "mimetype": "text/x-python",
   "name": "python",
   "nbconvert_exporter": "python",
   "pygments_lexer": "ipython3",
   "version": "3.9.15"
  }
 },
 "nbformat": 4,
 "nbformat_minor": 5
}
